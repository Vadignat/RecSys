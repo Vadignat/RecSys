{
 "cells": [
  {
   "cell_type": "code",
   "execution_count": 2,
   "id": "initial_id",
   "metadata": {
    "collapsed": true,
    "ExecuteTime": {
     "end_time": "2024-03-07T12:59:05.181722Z",
     "start_time": "2024-03-07T12:58:59.248730Z"
    }
   },
   "outputs": [],
   "source": [
    "import pandas as pd"
   ]
  },
  {
   "cell_type": "code",
   "outputs": [
    {
     "data": {
      "text/plain": "       search_id  feature_0  feature_1  feature_2  feature_3  feature_4  \\\n0            758          9          0          0          1         20   \n1            758          9          0          0          1         20   \n2            758          9          0          0          1         20   \n3            758          9          0          0          1         20   \n4            758          9          0          0          1         20   \n...          ...        ...        ...        ...        ...        ...   \n15076     494693          9          0          0          0          9   \n15077     494693          9          0          0          0          9   \n15078     494693          9          0          0          0          9   \n15079     494693          9          0          0          0          9   \n15080     494693          9          0          0          0          9   \n\n       feature_5  feature_6  feature_7  feature_8  ...  feature_70  \\\n0              3         40          0          3  ...    0.204682   \n1              3         40          0          3  ...    0.195531   \n2              3         40          0          3  ...    0.148609   \n3              3         40          0          3  ...    0.223748   \n4              3         40          0          3  ...    0.170935   \n...          ...        ...        ...        ...  ...         ...   \n15076          4         38          6          6  ...    0.309672   \n15077          4         38          6          6  ...    0.303805   \n15078          4         38          6          6  ...    0.346538   \n15079          4         38          6          6  ...    0.243154   \n15080          4         38          6          6  ...    0.294564   \n\n       feature_71  feature_72  feature_73  feature_74  feature_75  feature_76  \\\n0        0.271755    0.055623           0           0           0     0.38648   \n1        0.188787    0.036914           0           0           0     0.10982   \n2        0.186517    0.027718           0           0           0     0.03674   \n3        0.229039    0.051247           0           0           0     0.00000   \n4        0.249031    0.042568           0           0           0     0.00000   \n...           ...         ...         ...         ...         ...         ...   \n15076    0.921060    0.285226           0           0           0     0.98807   \n15077    0.995086    0.302312           0           0           0     0.87146   \n15078    0.993070    0.344137           0           0           0     0.49999   \n15079    0.994833    0.241898           0           0           0     0.67614   \n15080    0.987208    0.290796           0           0           0     0.53674   \n\n       feature_77  feature_78  target  \n0             0.0         0.0       0  \n1             0.0         0.0       0  \n2             0.0         0.0       0  \n3             0.0         0.0       0  \n4             0.0         0.0       0  \n...           ...         ...     ...  \n15076         0.0         0.0       0  \n15077         0.0         0.0       0  \n15078         0.0         0.0       0  \n15079         0.0         0.0       0  \n15080         0.0         0.0       1  \n\n[15081 rows x 81 columns]",
      "text/html": "<div>\n<style scoped>\n    .dataframe tbody tr th:only-of-type {\n        vertical-align: middle;\n    }\n\n    .dataframe tbody tr th {\n        vertical-align: top;\n    }\n\n    .dataframe thead th {\n        text-align: right;\n    }\n</style>\n<table border=\"1\" class=\"dataframe\">\n  <thead>\n    <tr style=\"text-align: right;\">\n      <th></th>\n      <th>search_id</th>\n      <th>feature_0</th>\n      <th>feature_1</th>\n      <th>feature_2</th>\n      <th>feature_3</th>\n      <th>feature_4</th>\n      <th>feature_5</th>\n      <th>feature_6</th>\n      <th>feature_7</th>\n      <th>feature_8</th>\n      <th>...</th>\n      <th>feature_70</th>\n      <th>feature_71</th>\n      <th>feature_72</th>\n      <th>feature_73</th>\n      <th>feature_74</th>\n      <th>feature_75</th>\n      <th>feature_76</th>\n      <th>feature_77</th>\n      <th>feature_78</th>\n      <th>target</th>\n    </tr>\n  </thead>\n  <tbody>\n    <tr>\n      <th>0</th>\n      <td>758</td>\n      <td>9</td>\n      <td>0</td>\n      <td>0</td>\n      <td>1</td>\n      <td>20</td>\n      <td>3</td>\n      <td>40</td>\n      <td>0</td>\n      <td>3</td>\n      <td>...</td>\n      <td>0.204682</td>\n      <td>0.271755</td>\n      <td>0.055623</td>\n      <td>0</td>\n      <td>0</td>\n      <td>0</td>\n      <td>0.38648</td>\n      <td>0.0</td>\n      <td>0.0</td>\n      <td>0</td>\n    </tr>\n    <tr>\n      <th>1</th>\n      <td>758</td>\n      <td>9</td>\n      <td>0</td>\n      <td>0</td>\n      <td>1</td>\n      <td>20</td>\n      <td>3</td>\n      <td>40</td>\n      <td>0</td>\n      <td>3</td>\n      <td>...</td>\n      <td>0.195531</td>\n      <td>0.188787</td>\n      <td>0.036914</td>\n      <td>0</td>\n      <td>0</td>\n      <td>0</td>\n      <td>0.10982</td>\n      <td>0.0</td>\n      <td>0.0</td>\n      <td>0</td>\n    </tr>\n    <tr>\n      <th>2</th>\n      <td>758</td>\n      <td>9</td>\n      <td>0</td>\n      <td>0</td>\n      <td>1</td>\n      <td>20</td>\n      <td>3</td>\n      <td>40</td>\n      <td>0</td>\n      <td>3</td>\n      <td>...</td>\n      <td>0.148609</td>\n      <td>0.186517</td>\n      <td>0.027718</td>\n      <td>0</td>\n      <td>0</td>\n      <td>0</td>\n      <td>0.03674</td>\n      <td>0.0</td>\n      <td>0.0</td>\n      <td>0</td>\n    </tr>\n    <tr>\n      <th>3</th>\n      <td>758</td>\n      <td>9</td>\n      <td>0</td>\n      <td>0</td>\n      <td>1</td>\n      <td>20</td>\n      <td>3</td>\n      <td>40</td>\n      <td>0</td>\n      <td>3</td>\n      <td>...</td>\n      <td>0.223748</td>\n      <td>0.229039</td>\n      <td>0.051247</td>\n      <td>0</td>\n      <td>0</td>\n      <td>0</td>\n      <td>0.00000</td>\n      <td>0.0</td>\n      <td>0.0</td>\n      <td>0</td>\n    </tr>\n    <tr>\n      <th>4</th>\n      <td>758</td>\n      <td>9</td>\n      <td>0</td>\n      <td>0</td>\n      <td>1</td>\n      <td>20</td>\n      <td>3</td>\n      <td>40</td>\n      <td>0</td>\n      <td>3</td>\n      <td>...</td>\n      <td>0.170935</td>\n      <td>0.249031</td>\n      <td>0.042568</td>\n      <td>0</td>\n      <td>0</td>\n      <td>0</td>\n      <td>0.00000</td>\n      <td>0.0</td>\n      <td>0.0</td>\n      <td>0</td>\n    </tr>\n    <tr>\n      <th>...</th>\n      <td>...</td>\n      <td>...</td>\n      <td>...</td>\n      <td>...</td>\n      <td>...</td>\n      <td>...</td>\n      <td>...</td>\n      <td>...</td>\n      <td>...</td>\n      <td>...</td>\n      <td>...</td>\n      <td>...</td>\n      <td>...</td>\n      <td>...</td>\n      <td>...</td>\n      <td>...</td>\n      <td>...</td>\n      <td>...</td>\n      <td>...</td>\n      <td>...</td>\n      <td>...</td>\n    </tr>\n    <tr>\n      <th>15076</th>\n      <td>494693</td>\n      <td>9</td>\n      <td>0</td>\n      <td>0</td>\n      <td>0</td>\n      <td>9</td>\n      <td>4</td>\n      <td>38</td>\n      <td>6</td>\n      <td>6</td>\n      <td>...</td>\n      <td>0.309672</td>\n      <td>0.921060</td>\n      <td>0.285226</td>\n      <td>0</td>\n      <td>0</td>\n      <td>0</td>\n      <td>0.98807</td>\n      <td>0.0</td>\n      <td>0.0</td>\n      <td>0</td>\n    </tr>\n    <tr>\n      <th>15077</th>\n      <td>494693</td>\n      <td>9</td>\n      <td>0</td>\n      <td>0</td>\n      <td>0</td>\n      <td>9</td>\n      <td>4</td>\n      <td>38</td>\n      <td>6</td>\n      <td>6</td>\n      <td>...</td>\n      <td>0.303805</td>\n      <td>0.995086</td>\n      <td>0.302312</td>\n      <td>0</td>\n      <td>0</td>\n      <td>0</td>\n      <td>0.87146</td>\n      <td>0.0</td>\n      <td>0.0</td>\n      <td>0</td>\n    </tr>\n    <tr>\n      <th>15078</th>\n      <td>494693</td>\n      <td>9</td>\n      <td>0</td>\n      <td>0</td>\n      <td>0</td>\n      <td>9</td>\n      <td>4</td>\n      <td>38</td>\n      <td>6</td>\n      <td>6</td>\n      <td>...</td>\n      <td>0.346538</td>\n      <td>0.993070</td>\n      <td>0.344137</td>\n      <td>0</td>\n      <td>0</td>\n      <td>0</td>\n      <td>0.49999</td>\n      <td>0.0</td>\n      <td>0.0</td>\n      <td>0</td>\n    </tr>\n    <tr>\n      <th>15079</th>\n      <td>494693</td>\n      <td>9</td>\n      <td>0</td>\n      <td>0</td>\n      <td>0</td>\n      <td>9</td>\n      <td>4</td>\n      <td>38</td>\n      <td>6</td>\n      <td>6</td>\n      <td>...</td>\n      <td>0.243154</td>\n      <td>0.994833</td>\n      <td>0.241898</td>\n      <td>0</td>\n      <td>0</td>\n      <td>0</td>\n      <td>0.67614</td>\n      <td>0.0</td>\n      <td>0.0</td>\n      <td>0</td>\n    </tr>\n    <tr>\n      <th>15080</th>\n      <td>494693</td>\n      <td>9</td>\n      <td>0</td>\n      <td>0</td>\n      <td>0</td>\n      <td>9</td>\n      <td>4</td>\n      <td>38</td>\n      <td>6</td>\n      <td>6</td>\n      <td>...</td>\n      <td>0.294564</td>\n      <td>0.987208</td>\n      <td>0.290796</td>\n      <td>0</td>\n      <td>0</td>\n      <td>0</td>\n      <td>0.53674</td>\n      <td>0.0</td>\n      <td>0.0</td>\n      <td>1</td>\n    </tr>\n  </tbody>\n</table>\n<p>15081 rows × 81 columns</p>\n</div>"
     },
     "execution_count": 3,
     "metadata": {},
     "output_type": "execute_result"
    }
   ],
   "source": [
    "train_df = pd.read_csv('train_df.csv')\n",
    "train_df"
   ],
   "metadata": {
    "collapsed": false,
    "ExecuteTime": {
     "end_time": "2024-03-07T12:59:05.403983Z",
     "start_time": "2024-03-07T12:59:05.182585Z"
    }
   },
   "id": "5f15642f282e3107",
   "execution_count": 3
  },
  {
   "cell_type": "code",
   "outputs": [
    {
     "data": {
      "text/plain": "      search_id  feature_0  feature_1  feature_2  feature_3  feature_4  \\\n0         10655          9          0          0          1         20   \n1         10655          9          0          0          1         20   \n2         10655          9          0          0          1         20   \n3         10655          9          0          0          1         20   \n4         10655          9          0          0          1         20   \n...         ...        ...        ...        ...        ...        ...   \n1524     493078          9          0          0          0          9   \n1525     493078          9          0          0          0          9   \n1526     493078          9          0          0          0          9   \n1527     493078          9          0          0          0          9   \n1528     493078          9          0          0          0          9   \n\n      feature_5  feature_6  feature_7  feature_8  ...  feature_70  feature_71  \\\n0             4         40          0          0  ...    0.148830    0.196644   \n1             4         40          0          0  ...    0.119724    0.174199   \n2             4         40          0          0  ...    0.160606    0.198780   \n3             4         40          0          0  ...    0.180191    0.187882   \n4             4         40          0          0  ...    0.117308    0.153586   \n...         ...        ...        ...        ...  ...         ...         ...   \n1524          4         35          0          0  ...    0.341683    0.067348   \n1525          4         35          0          0  ...    0.270293    0.049000   \n1526          4         35          0          0  ...    0.372268    0.069882   \n1527          4         35          0          0  ...    0.355755    0.077469   \n1528          4         35          0          0  ...    0.260349    0.068786   \n\n      feature_72  feature_73  feature_74  feature_75  feature_76  feature_77  \\\n0       0.029267           0           0           0     0.03674         0.0   \n1       0.020856           0           0           0     0.00000         0.0   \n2       0.031925           0           0           0     0.00000         0.0   \n3       0.033855           0           0           0     0.00000         0.0   \n4       0.018017           0           0           0     0.00000         0.0   \n...          ...         ...         ...         ...         ...         ...   \n1524    0.023012           0           0           0     0.46108         0.0   \n1525    0.013244           0           0           0     0.03674         0.0   \n1526    0.026015           0           0           0     0.14540         0.0   \n1527    0.027560           0           0           0     0.21288         0.0   \n1528    0.017908           0           0           0     0.20751         0.0   \n\n      feature_78  target  \n0            0.0       0  \n1            0.0       0  \n2            0.0       0  \n3            0.0       0  \n4            0.0       0  \n...          ...     ...  \n1524         0.0       0  \n1525         0.0       0  \n1526         0.0       1  \n1527         0.0       1  \n1528         0.0       0  \n\n[1529 rows x 81 columns]",
      "text/html": "<div>\n<style scoped>\n    .dataframe tbody tr th:only-of-type {\n        vertical-align: middle;\n    }\n\n    .dataframe tbody tr th {\n        vertical-align: top;\n    }\n\n    .dataframe thead th {\n        text-align: right;\n    }\n</style>\n<table border=\"1\" class=\"dataframe\">\n  <thead>\n    <tr style=\"text-align: right;\">\n      <th></th>\n      <th>search_id</th>\n      <th>feature_0</th>\n      <th>feature_1</th>\n      <th>feature_2</th>\n      <th>feature_3</th>\n      <th>feature_4</th>\n      <th>feature_5</th>\n      <th>feature_6</th>\n      <th>feature_7</th>\n      <th>feature_8</th>\n      <th>...</th>\n      <th>feature_70</th>\n      <th>feature_71</th>\n      <th>feature_72</th>\n      <th>feature_73</th>\n      <th>feature_74</th>\n      <th>feature_75</th>\n      <th>feature_76</th>\n      <th>feature_77</th>\n      <th>feature_78</th>\n      <th>target</th>\n    </tr>\n  </thead>\n  <tbody>\n    <tr>\n      <th>0</th>\n      <td>10655</td>\n      <td>9</td>\n      <td>0</td>\n      <td>0</td>\n      <td>1</td>\n      <td>20</td>\n      <td>4</td>\n      <td>40</td>\n      <td>0</td>\n      <td>0</td>\n      <td>...</td>\n      <td>0.148830</td>\n      <td>0.196644</td>\n      <td>0.029267</td>\n      <td>0</td>\n      <td>0</td>\n      <td>0</td>\n      <td>0.03674</td>\n      <td>0.0</td>\n      <td>0.0</td>\n      <td>0</td>\n    </tr>\n    <tr>\n      <th>1</th>\n      <td>10655</td>\n      <td>9</td>\n      <td>0</td>\n      <td>0</td>\n      <td>1</td>\n      <td>20</td>\n      <td>4</td>\n      <td>40</td>\n      <td>0</td>\n      <td>0</td>\n      <td>...</td>\n      <td>0.119724</td>\n      <td>0.174199</td>\n      <td>0.020856</td>\n      <td>0</td>\n      <td>0</td>\n      <td>0</td>\n      <td>0.00000</td>\n      <td>0.0</td>\n      <td>0.0</td>\n      <td>0</td>\n    </tr>\n    <tr>\n      <th>2</th>\n      <td>10655</td>\n      <td>9</td>\n      <td>0</td>\n      <td>0</td>\n      <td>1</td>\n      <td>20</td>\n      <td>4</td>\n      <td>40</td>\n      <td>0</td>\n      <td>0</td>\n      <td>...</td>\n      <td>0.160606</td>\n      <td>0.198780</td>\n      <td>0.031925</td>\n      <td>0</td>\n      <td>0</td>\n      <td>0</td>\n      <td>0.00000</td>\n      <td>0.0</td>\n      <td>0.0</td>\n      <td>0</td>\n    </tr>\n    <tr>\n      <th>3</th>\n      <td>10655</td>\n      <td>9</td>\n      <td>0</td>\n      <td>0</td>\n      <td>1</td>\n      <td>20</td>\n      <td>4</td>\n      <td>40</td>\n      <td>0</td>\n      <td>0</td>\n      <td>...</td>\n      <td>0.180191</td>\n      <td>0.187882</td>\n      <td>0.033855</td>\n      <td>0</td>\n      <td>0</td>\n      <td>0</td>\n      <td>0.00000</td>\n      <td>0.0</td>\n      <td>0.0</td>\n      <td>0</td>\n    </tr>\n    <tr>\n      <th>4</th>\n      <td>10655</td>\n      <td>9</td>\n      <td>0</td>\n      <td>0</td>\n      <td>1</td>\n      <td>20</td>\n      <td>4</td>\n      <td>40</td>\n      <td>0</td>\n      <td>0</td>\n      <td>...</td>\n      <td>0.117308</td>\n      <td>0.153586</td>\n      <td>0.018017</td>\n      <td>0</td>\n      <td>0</td>\n      <td>0</td>\n      <td>0.00000</td>\n      <td>0.0</td>\n      <td>0.0</td>\n      <td>0</td>\n    </tr>\n    <tr>\n      <th>...</th>\n      <td>...</td>\n      <td>...</td>\n      <td>...</td>\n      <td>...</td>\n      <td>...</td>\n      <td>...</td>\n      <td>...</td>\n      <td>...</td>\n      <td>...</td>\n      <td>...</td>\n      <td>...</td>\n      <td>...</td>\n      <td>...</td>\n      <td>...</td>\n      <td>...</td>\n      <td>...</td>\n      <td>...</td>\n      <td>...</td>\n      <td>...</td>\n      <td>...</td>\n      <td>...</td>\n    </tr>\n    <tr>\n      <th>1524</th>\n      <td>493078</td>\n      <td>9</td>\n      <td>0</td>\n      <td>0</td>\n      <td>0</td>\n      <td>9</td>\n      <td>4</td>\n      <td>35</td>\n      <td>0</td>\n      <td>0</td>\n      <td>...</td>\n      <td>0.341683</td>\n      <td>0.067348</td>\n      <td>0.023012</td>\n      <td>0</td>\n      <td>0</td>\n      <td>0</td>\n      <td>0.46108</td>\n      <td>0.0</td>\n      <td>0.0</td>\n      <td>0</td>\n    </tr>\n    <tr>\n      <th>1525</th>\n      <td>493078</td>\n      <td>9</td>\n      <td>0</td>\n      <td>0</td>\n      <td>0</td>\n      <td>9</td>\n      <td>4</td>\n      <td>35</td>\n      <td>0</td>\n      <td>0</td>\n      <td>...</td>\n      <td>0.270293</td>\n      <td>0.049000</td>\n      <td>0.013244</td>\n      <td>0</td>\n      <td>0</td>\n      <td>0</td>\n      <td>0.03674</td>\n      <td>0.0</td>\n      <td>0.0</td>\n      <td>0</td>\n    </tr>\n    <tr>\n      <th>1526</th>\n      <td>493078</td>\n      <td>9</td>\n      <td>0</td>\n      <td>0</td>\n      <td>0</td>\n      <td>9</td>\n      <td>4</td>\n      <td>35</td>\n      <td>0</td>\n      <td>0</td>\n      <td>...</td>\n      <td>0.372268</td>\n      <td>0.069882</td>\n      <td>0.026015</td>\n      <td>0</td>\n      <td>0</td>\n      <td>0</td>\n      <td>0.14540</td>\n      <td>0.0</td>\n      <td>0.0</td>\n      <td>1</td>\n    </tr>\n    <tr>\n      <th>1527</th>\n      <td>493078</td>\n      <td>9</td>\n      <td>0</td>\n      <td>0</td>\n      <td>0</td>\n      <td>9</td>\n      <td>4</td>\n      <td>35</td>\n      <td>0</td>\n      <td>0</td>\n      <td>...</td>\n      <td>0.355755</td>\n      <td>0.077469</td>\n      <td>0.027560</td>\n      <td>0</td>\n      <td>0</td>\n      <td>0</td>\n      <td>0.21288</td>\n      <td>0.0</td>\n      <td>0.0</td>\n      <td>1</td>\n    </tr>\n    <tr>\n      <th>1528</th>\n      <td>493078</td>\n      <td>9</td>\n      <td>0</td>\n      <td>0</td>\n      <td>0</td>\n      <td>9</td>\n      <td>4</td>\n      <td>35</td>\n      <td>0</td>\n      <td>0</td>\n      <td>...</td>\n      <td>0.260349</td>\n      <td>0.068786</td>\n      <td>0.017908</td>\n      <td>0</td>\n      <td>0</td>\n      <td>0</td>\n      <td>0.20751</td>\n      <td>0.0</td>\n      <td>0.0</td>\n      <td>0</td>\n    </tr>\n  </tbody>\n</table>\n<p>1529 rows × 81 columns</p>\n</div>"
     },
     "execution_count": 4,
     "metadata": {},
     "output_type": "execute_result"
    }
   ],
   "source": [
    "test_df = pd.read_csv('test_df.csv')\n",
    "test_df"
   ],
   "metadata": {
    "collapsed": false,
    "ExecuteTime": {
     "end_time": "2024-03-07T12:59:05.467984Z",
     "start_time": "2024-03-07T12:59:05.405983Z"
    }
   },
   "id": "8ac9943052c88c9c",
   "execution_count": 4
  },
  {
   "cell_type": "code",
   "outputs": [],
   "source": [
    "X_train = train_df.drop(columns=['target'])\n",
    "y_train = train_df['target']\n",
    "X_test = test_df.drop(columns=['target'])\n",
    "y_test = test_df['target']"
   ],
   "metadata": {
    "collapsed": false,
    "ExecuteTime": {
     "end_time": "2024-03-07T12:59:05.499558Z",
     "start_time": "2024-03-07T12:59:05.471009Z"
    }
   },
   "id": "a38e1e258b1fbeab",
   "execution_count": 5
  },
  {
   "cell_type": "code",
   "outputs": [],
   "source": [
    "from sklearn.metrics import ndcg_score\n",
    "\n",
    "def pipeline(model, X_train, y_train, X_test, y_test, model_name=None):\n",
    "    model.fit(X_train, y_train)\n",
    "    y_pred_proba = model.predict_proba(X_test)[:, 1]\n",
    "\n",
    "    ndcg = ndcg_score(y_test.values.reshape(1, -1), y_pred_proba.reshape(1, -1), k=X_test.shape[0])\n",
    "    if model_name:\n",
    "        print(f'NDCG на тестовых данных c использованием {model_name}: {ndcg}')\n",
    "    else:\n",
    "        print(f'NDCG на тестовых данных: {ndcg}')"
   ],
   "metadata": {
    "collapsed": false,
    "ExecuteTime": {
     "end_time": "2024-03-07T12:59:05.515564Z",
     "start_time": "2024-03-07T12:59:05.502557Z"
    }
   },
   "id": "953519eadc44ec81",
   "execution_count": 6
  },
  {
   "cell_type": "code",
   "outputs": [],
   "source": [
    "import xgboost as xgb\n",
    "\n",
    "model = xgb.XGBClassifier(\n",
    "    objective='binary:logistic',\n",
    "    n_estimators=100,\n",
    "    max_depth=6,\n",
    "    learning_rate=0.1,\n",
    ")"
   ],
   "metadata": {
    "collapsed": false,
    "ExecuteTime": {
     "end_time": "2024-03-07T12:59:06.807873Z",
     "start_time": "2024-03-07T12:59:05.517559Z"
    }
   },
   "id": "1918176476984ad7",
   "execution_count": 7
  },
  {
   "cell_type": "code",
   "outputs": [
    {
     "name": "stdout",
     "output_type": "stream",
     "text": [
      "NDCG на тестовых данных c использованием XGBoostClassifier: 0.4750232110634362\n"
     ]
    }
   ],
   "source": [
    "pipeline(model, X_train, y_train, X_test, y_test, model_name='XGBoostClassifier')"
   ],
   "metadata": {
    "collapsed": false,
    "ExecuteTime": {
     "end_time": "2024-03-07T12:59:17.702150Z",
     "start_time": "2024-03-07T12:59:06.812906Z"
    }
   },
   "id": "ad8d9e88f4725c49",
   "execution_count": 8
  },
  {
   "cell_type": "code",
   "outputs": [],
   "source": [
    "import lightgbm as lgb\n",
    "\n",
    "params = {\n",
    "    'objective': 'binary',\n",
    "    'metric': 'binary_logloss'\n",
    "}\n",
    "\n",
    "model = lgb.LGBMClassifier(**params)"
   ],
   "metadata": {
    "collapsed": false,
    "ExecuteTime": {
     "end_time": "2024-03-07T12:59:24.562050Z",
     "start_time": "2024-03-07T12:59:17.704927Z"
    }
   },
   "id": "404783c063ebd40",
   "execution_count": 9
  },
  {
   "cell_type": "code",
   "outputs": [
    {
     "name": "stdout",
     "output_type": "stream",
     "text": [
      "[LightGBM] [Info] Number of positive: 322, number of negative: 14759\n",
      "[LightGBM] [Info] Auto-choosing row-wise multi-threading, the overhead of testing was 0.005462 seconds.\n",
      "You can set `force_row_wise=true` to remove the overhead.\n",
      "And if memory is not enough, you can set `force_col_wise=true`.\n",
      "[LightGBM] [Info] Total Bins 12703\n",
      "[LightGBM] [Info] Number of data points in the train set: 15081, number of used features: 76\n",
      "[LightGBM] [Info] [binary:BoostFromScore]: pavg=0.021351 -> initscore=-3.825057\n",
      "[LightGBM] [Info] Start training from score -3.825057\n",
      "NDCG на тестовых данных c использованием LGBMClassifier: 0.4537606445974451\n"
     ]
    }
   ],
   "source": [
    "pipeline(model, X_train, y_train, X_test, y_test, model_name='LGBMClassifier')"
   ],
   "metadata": {
    "collapsed": false,
    "ExecuteTime": {
     "end_time": "2024-03-07T12:59:25.565286Z",
     "start_time": "2024-03-07T12:59:24.564423Z"
    }
   },
   "id": "4693463cdaec804",
   "execution_count": 10
  },
  {
   "cell_type": "code",
   "outputs": [],
   "source": [
    "from catboost import CatBoostClassifier\n",
    "\n",
    "model = CatBoostClassifier(\n",
    "    iterations=100,  \n",
    "    learning_rate=0.1,  \n",
    "    depth=6,  \n",
    "    loss_function='Logloss', \n",
    ")"
   ],
   "metadata": {
    "collapsed": false,
    "ExecuteTime": {
     "end_time": "2024-03-07T12:59:26.561707Z",
     "start_time": "2024-03-07T12:59:25.566286Z"
    }
   },
   "id": "e0c65ce0a8fadeac",
   "execution_count": 11
  },
  {
   "cell_type": "code",
   "outputs": [
    {
     "data": {
      "text/plain": "<catboost.core.CatBoostClassifier at 0x152b8134a60>"
     },
     "execution_count": 12,
     "metadata": {},
     "output_type": "execute_result"
    }
   ],
   "source": [
    "model.fit(X_train, y_train, eval_set=(X_test, y_test), verbose=False)"
   ],
   "metadata": {
    "collapsed": false,
    "ExecuteTime": {
     "end_time": "2024-03-07T12:59:28.141083Z",
     "start_time": "2024-03-07T12:59:26.563675Z"
    }
   },
   "id": "2bece27c15368022",
   "execution_count": 12
  },
  {
   "cell_type": "code",
   "outputs": [
    {
     "name": "stdout",
     "output_type": "stream",
     "text": [
      "NDCG на тестовых данных с использованием CatBoost: 0.5681496636375397\n"
     ]
    }
   ],
   "source": [
    "y_pred_proba = model.predict_proba(X_test)[:, 1]\n",
    "\n",
    "ndcg = ndcg_score(y_test.values.reshape(1, -1), y_pred_proba.reshape(1, -1), k=X_test.shape[0])\n",
    "print(f'NDCG на тестовых данных с использованием CatBoost: {ndcg}')"
   ],
   "metadata": {
    "collapsed": false,
    "ExecuteTime": {
     "end_time": "2024-03-07T12:59:28.172160Z",
     "start_time": "2024-03-07T12:59:28.142063Z"
    }
   },
   "id": "599df28a14cffb9d",
   "execution_count": 13
  },
  {
   "cell_type": "code",
   "outputs": [],
   "source": [
    "from sklearn.ensemble import RandomForestClassifier\n",
    "\n",
    "model = RandomForestClassifier(\n",
    "    n_estimators=100,  \n",
    "    max_depth=10,  \n",
    ")"
   ],
   "metadata": {
    "collapsed": false,
    "ExecuteTime": {
     "end_time": "2024-03-07T12:59:29.281560Z",
     "start_time": "2024-03-07T12:59:28.175158Z"
    }
   },
   "id": "aa267f79ca752663",
   "execution_count": 14
  },
  {
   "cell_type": "code",
   "outputs": [
    {
     "name": "stdout",
     "output_type": "stream",
     "text": [
      "NDCG на тестовых данных c использованием RandomForestClassifier: 0.5027975259399042\n"
     ]
    }
   ],
   "source": [
    "pipeline(model, X_train, y_train, X_test, y_test, model_name='RandomForestClassifier')"
   ],
   "metadata": {
    "collapsed": false,
    "ExecuteTime": {
     "end_time": "2024-03-07T12:59:32.579660Z",
     "start_time": "2024-03-07T12:59:29.283435Z"
    }
   },
   "id": "a3a4acf9233fd8fa",
   "execution_count": 15
  },
  {
   "cell_type": "code",
   "outputs": [],
   "source": [
    "from sklearn.neighbors import KNeighborsClassifier\n",
    "\n",
    "model = KNeighborsClassifier(\n",
    "    n_neighbors=5,  \n",
    "    weights='uniform'  \n",
    ")"
   ],
   "metadata": {
    "collapsed": false,
    "ExecuteTime": {
     "end_time": "2024-03-07T12:59:32.595657Z",
     "start_time": "2024-03-07T12:59:32.582657Z"
    }
   },
   "id": "b4d8b95f89cd5aba",
   "execution_count": 16
  },
  {
   "cell_type": "code",
   "outputs": [
    {
     "name": "stdout",
     "output_type": "stream",
     "text": [
      "NDCG на тестовых данных c использованием KNNClassifier: 0.41750638285686853\n"
     ]
    }
   ],
   "source": [
    "pipeline(model, X_train, y_train, X_test, y_test, model_name='KNNClassifier')"
   ],
   "metadata": {
    "collapsed": false,
    "ExecuteTime": {
     "end_time": "2024-03-07T12:59:33.797729Z",
     "start_time": "2024-03-07T12:59:32.598665Z"
    }
   },
   "id": "a31ccf25451c1c8e",
   "execution_count": 17
  },
  {
   "cell_type": "code",
   "outputs": [],
   "source": [
    "from sklearn.svm import SVC\n",
    "\n",
    "model = SVC(probability=True)"
   ],
   "metadata": {
    "collapsed": false,
    "ExecuteTime": {
     "end_time": "2024-03-07T12:59:33.828708Z",
     "start_time": "2024-03-07T12:59:33.804709Z"
    }
   },
   "id": "69bdbfa369e407a6",
   "execution_count": 18
  },
  {
   "cell_type": "code",
   "outputs": [
    {
     "name": "stdout",
     "output_type": "stream",
     "text": [
      "NDCG на тестовых данных c использованием SVCClassifier: 0.46836249408171576\n"
     ]
    }
   ],
   "source": [
    "pipeline(model, X_train, y_train, X_test, y_test, model_name='SVCClassifier')"
   ],
   "metadata": {
    "collapsed": false,
    "ExecuteTime": {
     "end_time": "2024-03-07T12:59:42.277946Z",
     "start_time": "2024-03-07T12:59:33.833748Z"
    }
   },
   "id": "69bba5496b1f5ecc",
   "execution_count": 19
  },
  {
   "cell_type": "code",
   "outputs": [],
   "source": [
    "from sklearn.linear_model import LogisticRegression\n",
    "\n",
    "model = LogisticRegression()"
   ],
   "metadata": {
    "collapsed": false,
    "ExecuteTime": {
     "end_time": "2024-03-07T12:59:42.293943Z",
     "start_time": "2024-03-07T12:59:42.279945Z"
    }
   },
   "id": "13904be3c65f4d3b",
   "execution_count": 20
  },
  {
   "cell_type": "code",
   "outputs": [
    {
     "name": "stdout",
     "output_type": "stream",
     "text": [
      "NDCG на тестовых данных c использованием LogisticRegression: 0.41291761830445706\n"
     ]
    }
   ],
   "source": [
    "pipeline(model, X_train, y_train, X_test, y_test, model_name='LogisticRegression')"
   ],
   "metadata": {
    "collapsed": false,
    "ExecuteTime": {
     "end_time": "2024-03-07T13:00:00.449614Z",
     "start_time": "2024-03-07T13:00:00.140349Z"
    }
   },
   "id": "f9012c4a85f0bd2a",
   "execution_count": 21
  },
  {
   "cell_type": "markdown",
   "source": [
    "Лучше всего показал себя CatBoost, подберем более оптимальные параметры для модели"
   ],
   "metadata": {
    "collapsed": false
   },
   "id": "ca4842770ed3ee18"
  },
  {
   "cell_type": "code",
   "outputs": [],
   "source": [
    "from catboost import Pool\n",
    "\n",
    "train_group_id = X_train['search_id']\n",
    "test_group_id = X_test['search_id']\n",
    "\n",
    "train_pool = Pool(data=X_train, label=y_train, group_id=train_group_id)\n",
    "test_pool = Pool(data=X_test, label=y_test, group_id=test_group_id)"
   ],
   "metadata": {
    "collapsed": false,
    "ExecuteTime": {
     "end_time": "2024-03-07T15:06:29.573017Z",
     "start_time": "2024-03-07T15:06:29.554746Z"
    }
   },
   "id": "d9df7affcea0f3c4",
   "execution_count": 98
  },
  {
   "cell_type": "code",
   "outputs": [],
   "source": [
    "model = CatBoostClassifier(\n",
    "    iterations=100,\n",
    "    depth=6,\n",
    "    custom_metric='NDCG'\n",
    ")"
   ],
   "metadata": {
    "collapsed": false,
    "ExecuteTime": {
     "end_time": "2024-03-07T15:19:36.539736Z",
     "start_time": "2024-03-07T15:19:36.528204Z"
    }
   },
   "id": "a2294779f120e5b",
   "execution_count": 150
  },
  {
   "cell_type": "code",
   "outputs": [
    {
     "name": "stdout",
     "output_type": "stream",
     "text": [
      "Learning rate set to 0.168648\n",
      "0:\tlearn: 0.4322537\ttest: 0.4319168\tbest: 0.4319168 (0)\ttotal: 58ms\tremaining: 5.74s\n",
      "1:\tlearn: 0.2901517\ttest: 0.2905600\tbest: 0.2905600 (1)\ttotal: 81.9ms\tremaining: 4.01s\n",
      "2:\tlearn: 0.2108811\ttest: 0.2138244\tbest: 0.2138244 (2)\ttotal: 107ms\tremaining: 3.44s\n",
      "3:\tlearn: 0.1671825\ttest: 0.1704222\tbest: 0.1704222 (3)\ttotal: 129ms\tremaining: 3.1s\n",
      "4:\tlearn: 0.1399357\ttest: 0.1432143\tbest: 0.1432143 (4)\ttotal: 152ms\tremaining: 2.88s\n",
      "5:\tlearn: 0.1241200\ttest: 0.1283937\tbest: 0.1283937 (5)\ttotal: 178ms\tremaining: 2.79s\n",
      "6:\tlearn: 0.1146304\ttest: 0.1189443\tbest: 0.1189443 (6)\ttotal: 209ms\tremaining: 2.77s\n",
      "7:\tlearn: 0.1071446\ttest: 0.1106061\tbest: 0.1106061 (7)\ttotal: 239ms\tremaining: 2.75s\n",
      "8:\tlearn: 0.1031294\ttest: 0.1066874\tbest: 0.1066874 (8)\ttotal: 272ms\tremaining: 2.75s\n",
      "9:\tlearn: 0.0996885\ttest: 0.1028686\tbest: 0.1028686 (9)\ttotal: 307ms\tremaining: 2.76s\n",
      "10:\tlearn: 0.0979145\ttest: 0.1016353\tbest: 0.1016353 (10)\ttotal: 336ms\tremaining: 2.72s\n",
      "11:\tlearn: 0.0961229\ttest: 0.0996571\tbest: 0.0996571 (11)\ttotal: 366ms\tremaining: 2.68s\n",
      "12:\tlearn: 0.0947021\ttest: 0.0983857\tbest: 0.0983857 (12)\ttotal: 401ms\tremaining: 2.69s\n",
      "13:\tlearn: 0.0933701\ttest: 0.0974270\tbest: 0.0974270 (13)\ttotal: 431ms\tremaining: 2.65s\n",
      "14:\tlearn: 0.0925291\ttest: 0.0974221\tbest: 0.0974221 (14)\ttotal: 449ms\tremaining: 2.54s\n",
      "15:\tlearn: 0.0912022\ttest: 0.0962439\tbest: 0.0962439 (15)\ttotal: 481ms\tremaining: 2.53s\n",
      "16:\tlearn: 0.0901352\ttest: 0.0963760\tbest: 0.0962439 (15)\ttotal: 506ms\tremaining: 2.47s\n",
      "17:\tlearn: 0.0896530\ttest: 0.0962794\tbest: 0.0962439 (15)\ttotal: 526ms\tremaining: 2.4s\n",
      "18:\tlearn: 0.0888786\ttest: 0.0956864\tbest: 0.0956864 (18)\ttotal: 553ms\tremaining: 2.36s\n",
      "19:\tlearn: 0.0882197\ttest: 0.0951028\tbest: 0.0951028 (19)\ttotal: 573ms\tremaining: 2.29s\n",
      "20:\tlearn: 0.0870666\ttest: 0.0948409\tbest: 0.0948409 (20)\ttotal: 591ms\tremaining: 2.23s\n",
      "21:\tlearn: 0.0868262\ttest: 0.0950347\tbest: 0.0948409 (20)\ttotal: 617ms\tremaining: 2.19s\n",
      "22:\tlearn: 0.0866082\ttest: 0.0951127\tbest: 0.0948409 (20)\ttotal: 647ms\tremaining: 2.16s\n",
      "23:\tlearn: 0.0861637\ttest: 0.0949711\tbest: 0.0948409 (20)\ttotal: 679ms\tremaining: 2.15s\n",
      "24:\tlearn: 0.0858533\ttest: 0.0949614\tbest: 0.0948409 (20)\ttotal: 710ms\tremaining: 2.13s\n",
      "25:\tlearn: 0.0851944\ttest: 0.0948364\tbest: 0.0948364 (25)\ttotal: 732ms\tremaining: 2.08s\n",
      "26:\tlearn: 0.0844609\ttest: 0.0946480\tbest: 0.0946480 (26)\ttotal: 763ms\tremaining: 2.06s\n",
      "27:\tlearn: 0.0839532\ttest: 0.0942541\tbest: 0.0942541 (27)\ttotal: 792ms\tremaining: 2.04s\n",
      "28:\tlearn: 0.0834843\ttest: 0.0942917\tbest: 0.0942541 (27)\ttotal: 822ms\tremaining: 2.01s\n",
      "29:\tlearn: 0.0828891\ttest: 0.0942648\tbest: 0.0942541 (27)\ttotal: 848ms\tremaining: 1.98s\n",
      "30:\tlearn: 0.0822336\ttest: 0.0940534\tbest: 0.0940534 (30)\ttotal: 881ms\tremaining: 1.96s\n",
      "31:\tlearn: 0.0816666\ttest: 0.0936075\tbest: 0.0936075 (31)\ttotal: 916ms\tremaining: 1.95s\n",
      "32:\tlearn: 0.0813456\ttest: 0.0937334\tbest: 0.0936075 (31)\ttotal: 945ms\tremaining: 1.92s\n",
      "33:\tlearn: 0.0808706\ttest: 0.0935560\tbest: 0.0935560 (33)\ttotal: 975ms\tremaining: 1.89s\n",
      "34:\tlearn: 0.0805701\ttest: 0.0937684\tbest: 0.0935560 (33)\ttotal: 999ms\tremaining: 1.85s\n",
      "35:\tlearn: 0.0800393\ttest: 0.0936878\tbest: 0.0935560 (33)\ttotal: 1.02s\tremaining: 1.82s\n",
      "36:\tlearn: 0.0795868\ttest: 0.0933578\tbest: 0.0933578 (36)\ttotal: 1.04s\tremaining: 1.78s\n",
      "37:\tlearn: 0.0789632\ttest: 0.0936973\tbest: 0.0933578 (36)\ttotal: 1.07s\tremaining: 1.74s\n",
      "38:\tlearn: 0.0786010\ttest: 0.0943628\tbest: 0.0933578 (36)\ttotal: 1.11s\tremaining: 1.73s\n",
      "39:\tlearn: 0.0781253\ttest: 0.0944544\tbest: 0.0933578 (36)\ttotal: 1.14s\tremaining: 1.71s\n",
      "40:\tlearn: 0.0773471\ttest: 0.0949412\tbest: 0.0933578 (36)\ttotal: 1.16s\tremaining: 1.67s\n",
      "41:\tlearn: 0.0766848\ttest: 0.0951702\tbest: 0.0933578 (36)\ttotal: 1.19s\tremaining: 1.65s\n",
      "42:\tlearn: 0.0760975\ttest: 0.0948489\tbest: 0.0933578 (36)\ttotal: 1.22s\tremaining: 1.62s\n",
      "43:\tlearn: 0.0757113\ttest: 0.0947977\tbest: 0.0933578 (36)\ttotal: 1.24s\tremaining: 1.58s\n",
      "44:\tlearn: 0.0751558\ttest: 0.0941375\tbest: 0.0933578 (36)\ttotal: 1.26s\tremaining: 1.55s\n",
      "45:\tlearn: 0.0749983\ttest: 0.0940500\tbest: 0.0933578 (36)\ttotal: 1.29s\tremaining: 1.51s\n",
      "46:\tlearn: 0.0746514\ttest: 0.0939236\tbest: 0.0933578 (36)\ttotal: 1.31s\tremaining: 1.47s\n",
      "47:\tlearn: 0.0739314\ttest: 0.0938562\tbest: 0.0933578 (36)\ttotal: 1.32s\tremaining: 1.44s\n",
      "48:\tlearn: 0.0738550\ttest: 0.0939145\tbest: 0.0933578 (36)\ttotal: 1.34s\tremaining: 1.4s\n",
      "49:\tlearn: 0.0733474\ttest: 0.0938196\tbest: 0.0933578 (36)\ttotal: 1.36s\tremaining: 1.36s\n",
      "50:\tlearn: 0.0724412\ttest: 0.0940881\tbest: 0.0933578 (36)\ttotal: 1.38s\tremaining: 1.32s\n",
      "51:\tlearn: 0.0721811\ttest: 0.0937938\tbest: 0.0933578 (36)\ttotal: 1.4s\tremaining: 1.29s\n",
      "52:\tlearn: 0.0718925\ttest: 0.0942154\tbest: 0.0933578 (36)\ttotal: 1.41s\tremaining: 1.25s\n",
      "53:\tlearn: 0.0710248\ttest: 0.0941769\tbest: 0.0933578 (36)\ttotal: 1.43s\tremaining: 1.22s\n",
      "54:\tlearn: 0.0708145\ttest: 0.0938836\tbest: 0.0933578 (36)\ttotal: 1.45s\tremaining: 1.18s\n",
      "55:\tlearn: 0.0703715\ttest: 0.0941943\tbest: 0.0933578 (36)\ttotal: 1.46s\tremaining: 1.15s\n",
      "56:\tlearn: 0.0699810\ttest: 0.0945112\tbest: 0.0933578 (36)\ttotal: 1.48s\tremaining: 1.12s\n",
      "57:\tlearn: 0.0698281\ttest: 0.0946107\tbest: 0.0933578 (36)\ttotal: 1.5s\tremaining: 1.09s\n",
      "58:\tlearn: 0.0696357\ttest: 0.0946172\tbest: 0.0933578 (36)\ttotal: 1.52s\tremaining: 1.05s\n",
      "59:\tlearn: 0.0693285\ttest: 0.0946643\tbest: 0.0933578 (36)\ttotal: 1.54s\tremaining: 1.03s\n",
      "60:\tlearn: 0.0692249\ttest: 0.0945892\tbest: 0.0933578 (36)\ttotal: 1.56s\tremaining: 995ms\n",
      "61:\tlearn: 0.0687559\ttest: 0.0943487\tbest: 0.0933578 (36)\ttotal: 1.57s\tremaining: 964ms\n",
      "62:\tlearn: 0.0686209\ttest: 0.0942353\tbest: 0.0933578 (36)\ttotal: 1.59s\tremaining: 933ms\n",
      "63:\tlearn: 0.0684940\ttest: 0.0942551\tbest: 0.0933578 (36)\ttotal: 1.6s\tremaining: 902ms\n",
      "64:\tlearn: 0.0684308\ttest: 0.0940394\tbest: 0.0933578 (36)\ttotal: 1.62s\tremaining: 872ms\n",
      "65:\tlearn: 0.0681782\ttest: 0.0938743\tbest: 0.0933578 (36)\ttotal: 1.63s\tremaining: 842ms\n",
      "66:\tlearn: 0.0678775\ttest: 0.0938331\tbest: 0.0933578 (36)\ttotal: 1.65s\tremaining: 813ms\n",
      "67:\tlearn: 0.0676975\ttest: 0.0938210\tbest: 0.0933578 (36)\ttotal: 1.67s\tremaining: 786ms\n",
      "68:\tlearn: 0.0675429\ttest: 0.0938816\tbest: 0.0933578 (36)\ttotal: 1.69s\tremaining: 758ms\n",
      "69:\tlearn: 0.0672931\ttest: 0.0940381\tbest: 0.0933578 (36)\ttotal: 1.71s\tremaining: 731ms\n",
      "70:\tlearn: 0.0665389\ttest: 0.0942732\tbest: 0.0933578 (36)\ttotal: 1.72s\tremaining: 704ms\n",
      "71:\tlearn: 0.0659685\ttest: 0.0944951\tbest: 0.0933578 (36)\ttotal: 1.75s\tremaining: 679ms\n",
      "72:\tlearn: 0.0656101\ttest: 0.0943183\tbest: 0.0933578 (36)\ttotal: 1.76s\tremaining: 652ms\n",
      "73:\tlearn: 0.0651837\ttest: 0.0944409\tbest: 0.0933578 (36)\ttotal: 1.78s\tremaining: 626ms\n",
      "74:\tlearn: 0.0651525\ttest: 0.0944535\tbest: 0.0933578 (36)\ttotal: 1.8s\tremaining: 599ms\n",
      "75:\tlearn: 0.0648910\ttest: 0.0946594\tbest: 0.0933578 (36)\ttotal: 1.81s\tremaining: 573ms\n",
      "76:\tlearn: 0.0647154\ttest: 0.0947917\tbest: 0.0933578 (36)\ttotal: 1.83s\tremaining: 547ms\n",
      "77:\tlearn: 0.0645648\ttest: 0.0947236\tbest: 0.0933578 (36)\ttotal: 1.85s\tremaining: 521ms\n",
      "78:\tlearn: 0.0642849\ttest: 0.0945381\tbest: 0.0933578 (36)\ttotal: 1.86s\tremaining: 495ms\n",
      "79:\tlearn: 0.0637664\ttest: 0.0946383\tbest: 0.0933578 (36)\ttotal: 1.88s\tremaining: 470ms\n",
      "80:\tlearn: 0.0635961\ttest: 0.0944942\tbest: 0.0933578 (36)\ttotal: 1.9s\tremaining: 445ms\n",
      "81:\tlearn: 0.0635170\ttest: 0.0945308\tbest: 0.0933578 (36)\ttotal: 1.91s\tremaining: 420ms\n",
      "82:\tlearn: 0.0630171\ttest: 0.0946705\tbest: 0.0933578 (36)\ttotal: 1.94s\tremaining: 397ms\n",
      "83:\tlearn: 0.0629199\ttest: 0.0947138\tbest: 0.0933578 (36)\ttotal: 1.96s\tremaining: 373ms\n",
      "84:\tlearn: 0.0624529\ttest: 0.0948050\tbest: 0.0933578 (36)\ttotal: 1.98s\tremaining: 349ms\n",
      "85:\tlearn: 0.0617596\ttest: 0.0955473\tbest: 0.0933578 (36)\ttotal: 2s\tremaining: 325ms\n",
      "86:\tlearn: 0.0616629\ttest: 0.0955071\tbest: 0.0933578 (36)\ttotal: 2.02s\tremaining: 301ms\n",
      "87:\tlearn: 0.0612961\ttest: 0.0954207\tbest: 0.0933578 (36)\ttotal: 2.03s\tremaining: 277ms\n",
      "88:\tlearn: 0.0609018\ttest: 0.0952863\tbest: 0.0933578 (36)\ttotal: 2.05s\tremaining: 253ms\n",
      "89:\tlearn: 0.0608240\ttest: 0.0952389\tbest: 0.0933578 (36)\ttotal: 2.07s\tremaining: 230ms\n",
      "90:\tlearn: 0.0607591\ttest: 0.0952852\tbest: 0.0933578 (36)\ttotal: 2.08s\tremaining: 206ms\n",
      "91:\tlearn: 0.0603300\ttest: 0.0952693\tbest: 0.0933578 (36)\ttotal: 2.11s\tremaining: 183ms\n",
      "92:\tlearn: 0.0596716\ttest: 0.0953074\tbest: 0.0933578 (36)\ttotal: 2.12s\tremaining: 160ms\n",
      "93:\tlearn: 0.0592300\ttest: 0.0954449\tbest: 0.0933578 (36)\ttotal: 2.15s\tremaining: 137ms\n",
      "94:\tlearn: 0.0590345\ttest: 0.0953228\tbest: 0.0933578 (36)\ttotal: 2.16s\tremaining: 114ms\n",
      "95:\tlearn: 0.0589023\ttest: 0.0953985\tbest: 0.0933578 (36)\ttotal: 2.19s\tremaining: 91.1ms\n",
      "96:\tlearn: 0.0584041\ttest: 0.0954501\tbest: 0.0933578 (36)\ttotal: 2.2s\tremaining: 68.2ms\n",
      "97:\tlearn: 0.0580984\ttest: 0.0953754\tbest: 0.0933578 (36)\ttotal: 2.22s\tremaining: 45.3ms\n",
      "98:\tlearn: 0.0574857\ttest: 0.0955825\tbest: 0.0933578 (36)\ttotal: 2.24s\tremaining: 22.6ms\n",
      "99:\tlearn: 0.0572005\ttest: 0.0958765\tbest: 0.0933578 (36)\ttotal: 2.26s\tremaining: 0us\n",
      "\n",
      "bestTest = 0.09335778158\n",
      "bestIteration = 36\n",
      "\n",
      "Shrink model to first 37 iterations.\n"
     ]
    },
    {
     "data": {
      "text/plain": "<catboost.core.CatBoostClassifier at 0x152bb5e0310>"
     },
     "execution_count": 151,
     "metadata": {},
     "output_type": "execute_result"
    }
   ],
   "source": [
    "model.fit(train_pool, eval_set=test_pool)"
   ],
   "metadata": {
    "collapsed": false,
    "ExecuteTime": {
     "end_time": "2024-03-07T15:19:39.259534Z",
     "start_time": "2024-03-07T15:19:36.827041Z"
    }
   },
   "id": "c3a24fde4a310b23",
   "execution_count": 151
  },
  {
   "cell_type": "code",
   "outputs": [
    {
     "name": "stdout",
     "output_type": "stream",
     "text": [
      "NDCG на тестовых данных с использованием CatBoost: 0.6174785446767981\n"
     ]
    }
   ],
   "source": [
    "y_pred_proba = model.predict_proba(X_test)[:, 1]\n",
    "\n",
    "ndcg = ndcg_score(y_test.values.reshape(1, -1), y_pred_proba.reshape(1, -1), k=X_test.shape[0])\n",
    "print(f'NDCG на тестовых данных с использованием CatBoost: {ndcg}')"
   ],
   "metadata": {
    "collapsed": false,
    "ExecuteTime": {
     "end_time": "2024-03-07T15:19:39.275618Z",
     "start_time": "2024-03-07T15:19:39.261586Z"
    }
   },
   "id": "5337f5641b4fa1bc",
   "execution_count": 152
  },
  {
   "cell_type": "code",
   "outputs": [],
   "source": [],
   "metadata": {
    "collapsed": false
   },
   "id": "fb02b9a404799a5d"
  }
 ],
 "metadata": {
  "kernelspec": {
   "display_name": "Python 3",
   "language": "python",
   "name": "python3"
  },
  "language_info": {
   "codemirror_mode": {
    "name": "ipython",
    "version": 2
   },
   "file_extension": ".py",
   "mimetype": "text/x-python",
   "name": "python",
   "nbconvert_exporter": "python",
   "pygments_lexer": "ipython2",
   "version": "2.7.6"
  }
 },
 "nbformat": 4,
 "nbformat_minor": 5
}
