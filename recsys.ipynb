{
 "cells": [
  {
   "cell_type": "code",
   "execution_count": 31,
   "id": "initial_id",
   "metadata": {
    "collapsed": true,
    "ExecuteTime": {
     "end_time": "2024-03-06T16:05:43.803160Z",
     "start_time": "2024-03-06T16:05:43.777041Z"
    }
   },
   "outputs": [],
   "source": [
    "import pandas as pd"
   ]
  },
  {
   "cell_type": "code",
   "outputs": [
    {
     "data": {
      "text/plain": "       search_id  feature_0  feature_1  feature_2  feature_3  feature_4  \\\n0            758          9          0          0          1         20   \n1            758          9          0          0          1         20   \n2            758          9          0          0          1         20   \n3            758          9          0          0          1         20   \n4            758          9          0          0          1         20   \n...          ...        ...        ...        ...        ...        ...   \n15076     494693          9          0          0          0          9   \n15077     494693          9          0          0          0          9   \n15078     494693          9          0          0          0          9   \n15079     494693          9          0          0          0          9   \n15080     494693          9          0          0          0          9   \n\n       feature_5  feature_6  feature_7  feature_8  ...  feature_70  \\\n0              3         40          0          3  ...    0.204682   \n1              3         40          0          3  ...    0.195531   \n2              3         40          0          3  ...    0.148609   \n3              3         40          0          3  ...    0.223748   \n4              3         40          0          3  ...    0.170935   \n...          ...        ...        ...        ...  ...         ...   \n15076          4         38          6          6  ...    0.309672   \n15077          4         38          6          6  ...    0.303805   \n15078          4         38          6          6  ...    0.346538   \n15079          4         38          6          6  ...    0.243154   \n15080          4         38          6          6  ...    0.294564   \n\n       feature_71  feature_72  feature_73  feature_74  feature_75  feature_76  \\\n0        0.271755    0.055623           0           0           0     0.38648   \n1        0.188787    0.036914           0           0           0     0.10982   \n2        0.186517    0.027718           0           0           0     0.03674   \n3        0.229039    0.051247           0           0           0     0.00000   \n4        0.249031    0.042568           0           0           0     0.00000   \n...           ...         ...         ...         ...         ...         ...   \n15076    0.921060    0.285226           0           0           0     0.98807   \n15077    0.995086    0.302312           0           0           0     0.87146   \n15078    0.993070    0.344137           0           0           0     0.49999   \n15079    0.994833    0.241898           0           0           0     0.67614   \n15080    0.987208    0.290796           0           0           0     0.53674   \n\n       feature_77  feature_78  target  \n0             0.0         0.0       0  \n1             0.0         0.0       0  \n2             0.0         0.0       0  \n3             0.0         0.0       0  \n4             0.0         0.0       0  \n...           ...         ...     ...  \n15076         0.0         0.0       0  \n15077         0.0         0.0       0  \n15078         0.0         0.0       0  \n15079         0.0         0.0       0  \n15080         0.0         0.0       1  \n\n[15081 rows x 81 columns]",
      "text/html": "<div>\n<style scoped>\n    .dataframe tbody tr th:only-of-type {\n        vertical-align: middle;\n    }\n\n    .dataframe tbody tr th {\n        vertical-align: top;\n    }\n\n    .dataframe thead th {\n        text-align: right;\n    }\n</style>\n<table border=\"1\" class=\"dataframe\">\n  <thead>\n    <tr style=\"text-align: right;\">\n      <th></th>\n      <th>search_id</th>\n      <th>feature_0</th>\n      <th>feature_1</th>\n      <th>feature_2</th>\n      <th>feature_3</th>\n      <th>feature_4</th>\n      <th>feature_5</th>\n      <th>feature_6</th>\n      <th>feature_7</th>\n      <th>feature_8</th>\n      <th>...</th>\n      <th>feature_70</th>\n      <th>feature_71</th>\n      <th>feature_72</th>\n      <th>feature_73</th>\n      <th>feature_74</th>\n      <th>feature_75</th>\n      <th>feature_76</th>\n      <th>feature_77</th>\n      <th>feature_78</th>\n      <th>target</th>\n    </tr>\n  </thead>\n  <tbody>\n    <tr>\n      <th>0</th>\n      <td>758</td>\n      <td>9</td>\n      <td>0</td>\n      <td>0</td>\n      <td>1</td>\n      <td>20</td>\n      <td>3</td>\n      <td>40</td>\n      <td>0</td>\n      <td>3</td>\n      <td>...</td>\n      <td>0.204682</td>\n      <td>0.271755</td>\n      <td>0.055623</td>\n      <td>0</td>\n      <td>0</td>\n      <td>0</td>\n      <td>0.38648</td>\n      <td>0.0</td>\n      <td>0.0</td>\n      <td>0</td>\n    </tr>\n    <tr>\n      <th>1</th>\n      <td>758</td>\n      <td>9</td>\n      <td>0</td>\n      <td>0</td>\n      <td>1</td>\n      <td>20</td>\n      <td>3</td>\n      <td>40</td>\n      <td>0</td>\n      <td>3</td>\n      <td>...</td>\n      <td>0.195531</td>\n      <td>0.188787</td>\n      <td>0.036914</td>\n      <td>0</td>\n      <td>0</td>\n      <td>0</td>\n      <td>0.10982</td>\n      <td>0.0</td>\n      <td>0.0</td>\n      <td>0</td>\n    </tr>\n    <tr>\n      <th>2</th>\n      <td>758</td>\n      <td>9</td>\n      <td>0</td>\n      <td>0</td>\n      <td>1</td>\n      <td>20</td>\n      <td>3</td>\n      <td>40</td>\n      <td>0</td>\n      <td>3</td>\n      <td>...</td>\n      <td>0.148609</td>\n      <td>0.186517</td>\n      <td>0.027718</td>\n      <td>0</td>\n      <td>0</td>\n      <td>0</td>\n      <td>0.03674</td>\n      <td>0.0</td>\n      <td>0.0</td>\n      <td>0</td>\n    </tr>\n    <tr>\n      <th>3</th>\n      <td>758</td>\n      <td>9</td>\n      <td>0</td>\n      <td>0</td>\n      <td>1</td>\n      <td>20</td>\n      <td>3</td>\n      <td>40</td>\n      <td>0</td>\n      <td>3</td>\n      <td>...</td>\n      <td>0.223748</td>\n      <td>0.229039</td>\n      <td>0.051247</td>\n      <td>0</td>\n      <td>0</td>\n      <td>0</td>\n      <td>0.00000</td>\n      <td>0.0</td>\n      <td>0.0</td>\n      <td>0</td>\n    </tr>\n    <tr>\n      <th>4</th>\n      <td>758</td>\n      <td>9</td>\n      <td>0</td>\n      <td>0</td>\n      <td>1</td>\n      <td>20</td>\n      <td>3</td>\n      <td>40</td>\n      <td>0</td>\n      <td>3</td>\n      <td>...</td>\n      <td>0.170935</td>\n      <td>0.249031</td>\n      <td>0.042568</td>\n      <td>0</td>\n      <td>0</td>\n      <td>0</td>\n      <td>0.00000</td>\n      <td>0.0</td>\n      <td>0.0</td>\n      <td>0</td>\n    </tr>\n    <tr>\n      <th>...</th>\n      <td>...</td>\n      <td>...</td>\n      <td>...</td>\n      <td>...</td>\n      <td>...</td>\n      <td>...</td>\n      <td>...</td>\n      <td>...</td>\n      <td>...</td>\n      <td>...</td>\n      <td>...</td>\n      <td>...</td>\n      <td>...</td>\n      <td>...</td>\n      <td>...</td>\n      <td>...</td>\n      <td>...</td>\n      <td>...</td>\n      <td>...</td>\n      <td>...</td>\n      <td>...</td>\n    </tr>\n    <tr>\n      <th>15076</th>\n      <td>494693</td>\n      <td>9</td>\n      <td>0</td>\n      <td>0</td>\n      <td>0</td>\n      <td>9</td>\n      <td>4</td>\n      <td>38</td>\n      <td>6</td>\n      <td>6</td>\n      <td>...</td>\n      <td>0.309672</td>\n      <td>0.921060</td>\n      <td>0.285226</td>\n      <td>0</td>\n      <td>0</td>\n      <td>0</td>\n      <td>0.98807</td>\n      <td>0.0</td>\n      <td>0.0</td>\n      <td>0</td>\n    </tr>\n    <tr>\n      <th>15077</th>\n      <td>494693</td>\n      <td>9</td>\n      <td>0</td>\n      <td>0</td>\n      <td>0</td>\n      <td>9</td>\n      <td>4</td>\n      <td>38</td>\n      <td>6</td>\n      <td>6</td>\n      <td>...</td>\n      <td>0.303805</td>\n      <td>0.995086</td>\n      <td>0.302312</td>\n      <td>0</td>\n      <td>0</td>\n      <td>0</td>\n      <td>0.87146</td>\n      <td>0.0</td>\n      <td>0.0</td>\n      <td>0</td>\n    </tr>\n    <tr>\n      <th>15078</th>\n      <td>494693</td>\n      <td>9</td>\n      <td>0</td>\n      <td>0</td>\n      <td>0</td>\n      <td>9</td>\n      <td>4</td>\n      <td>38</td>\n      <td>6</td>\n      <td>6</td>\n      <td>...</td>\n      <td>0.346538</td>\n      <td>0.993070</td>\n      <td>0.344137</td>\n      <td>0</td>\n      <td>0</td>\n      <td>0</td>\n      <td>0.49999</td>\n      <td>0.0</td>\n      <td>0.0</td>\n      <td>0</td>\n    </tr>\n    <tr>\n      <th>15079</th>\n      <td>494693</td>\n      <td>9</td>\n      <td>0</td>\n      <td>0</td>\n      <td>0</td>\n      <td>9</td>\n      <td>4</td>\n      <td>38</td>\n      <td>6</td>\n      <td>6</td>\n      <td>...</td>\n      <td>0.243154</td>\n      <td>0.994833</td>\n      <td>0.241898</td>\n      <td>0</td>\n      <td>0</td>\n      <td>0</td>\n      <td>0.67614</td>\n      <td>0.0</td>\n      <td>0.0</td>\n      <td>0</td>\n    </tr>\n    <tr>\n      <th>15080</th>\n      <td>494693</td>\n      <td>9</td>\n      <td>0</td>\n      <td>0</td>\n      <td>0</td>\n      <td>9</td>\n      <td>4</td>\n      <td>38</td>\n      <td>6</td>\n      <td>6</td>\n      <td>...</td>\n      <td>0.294564</td>\n      <td>0.987208</td>\n      <td>0.290796</td>\n      <td>0</td>\n      <td>0</td>\n      <td>0</td>\n      <td>0.53674</td>\n      <td>0.0</td>\n      <td>0.0</td>\n      <td>1</td>\n    </tr>\n  </tbody>\n</table>\n<p>15081 rows × 81 columns</p>\n</div>"
     },
     "execution_count": 32,
     "metadata": {},
     "output_type": "execute_result"
    }
   ],
   "source": [
    "train_df = pd.read_csv('train_df.csv')\n",
    "train_df"
   ],
   "metadata": {
    "collapsed": false,
    "ExecuteTime": {
     "end_time": "2024-03-06T16:05:44.225371Z",
     "start_time": "2024-03-06T16:05:43.816403Z"
    }
   },
   "id": "5f15642f282e3107",
   "execution_count": 32
  },
  {
   "cell_type": "code",
   "outputs": [
    {
     "data": {
      "text/plain": "      search_id  feature_0  feature_1  feature_2  feature_3  feature_4  \\\n0         10655          9          0          0          1         20   \n1         10655          9          0          0          1         20   \n2         10655          9          0          0          1         20   \n3         10655          9          0          0          1         20   \n4         10655          9          0          0          1         20   \n...         ...        ...        ...        ...        ...        ...   \n1524     493078          9          0          0          0          9   \n1525     493078          9          0          0          0          9   \n1526     493078          9          0          0          0          9   \n1527     493078          9          0          0          0          9   \n1528     493078          9          0          0          0          9   \n\n      feature_5  feature_6  feature_7  feature_8  ...  feature_70  feature_71  \\\n0             4         40          0          0  ...    0.148830    0.196644   \n1             4         40          0          0  ...    0.119724    0.174199   \n2             4         40          0          0  ...    0.160606    0.198780   \n3             4         40          0          0  ...    0.180191    0.187882   \n4             4         40          0          0  ...    0.117308    0.153586   \n...         ...        ...        ...        ...  ...         ...         ...   \n1524          4         35          0          0  ...    0.341683    0.067348   \n1525          4         35          0          0  ...    0.270293    0.049000   \n1526          4         35          0          0  ...    0.372268    0.069882   \n1527          4         35          0          0  ...    0.355755    0.077469   \n1528          4         35          0          0  ...    0.260349    0.068786   \n\n      feature_72  feature_73  feature_74  feature_75  feature_76  feature_77  \\\n0       0.029267           0           0           0     0.03674         0.0   \n1       0.020856           0           0           0     0.00000         0.0   \n2       0.031925           0           0           0     0.00000         0.0   \n3       0.033855           0           0           0     0.00000         0.0   \n4       0.018017           0           0           0     0.00000         0.0   \n...          ...         ...         ...         ...         ...         ...   \n1524    0.023012           0           0           0     0.46108         0.0   \n1525    0.013244           0           0           0     0.03674         0.0   \n1526    0.026015           0           0           0     0.14540         0.0   \n1527    0.027560           0           0           0     0.21288         0.0   \n1528    0.017908           0           0           0     0.20751         0.0   \n\n      feature_78  target  \n0            0.0       0  \n1            0.0       0  \n2            0.0       0  \n3            0.0       0  \n4            0.0       0  \n...          ...     ...  \n1524         0.0       0  \n1525         0.0       0  \n1526         0.0       1  \n1527         0.0       1  \n1528         0.0       0  \n\n[1529 rows x 81 columns]",
      "text/html": "<div>\n<style scoped>\n    .dataframe tbody tr th:only-of-type {\n        vertical-align: middle;\n    }\n\n    .dataframe tbody tr th {\n        vertical-align: top;\n    }\n\n    .dataframe thead th {\n        text-align: right;\n    }\n</style>\n<table border=\"1\" class=\"dataframe\">\n  <thead>\n    <tr style=\"text-align: right;\">\n      <th></th>\n      <th>search_id</th>\n      <th>feature_0</th>\n      <th>feature_1</th>\n      <th>feature_2</th>\n      <th>feature_3</th>\n      <th>feature_4</th>\n      <th>feature_5</th>\n      <th>feature_6</th>\n      <th>feature_7</th>\n      <th>feature_8</th>\n      <th>...</th>\n      <th>feature_70</th>\n      <th>feature_71</th>\n      <th>feature_72</th>\n      <th>feature_73</th>\n      <th>feature_74</th>\n      <th>feature_75</th>\n      <th>feature_76</th>\n      <th>feature_77</th>\n      <th>feature_78</th>\n      <th>target</th>\n    </tr>\n  </thead>\n  <tbody>\n    <tr>\n      <th>0</th>\n      <td>10655</td>\n      <td>9</td>\n      <td>0</td>\n      <td>0</td>\n      <td>1</td>\n      <td>20</td>\n      <td>4</td>\n      <td>40</td>\n      <td>0</td>\n      <td>0</td>\n      <td>...</td>\n      <td>0.148830</td>\n      <td>0.196644</td>\n      <td>0.029267</td>\n      <td>0</td>\n      <td>0</td>\n      <td>0</td>\n      <td>0.03674</td>\n      <td>0.0</td>\n      <td>0.0</td>\n      <td>0</td>\n    </tr>\n    <tr>\n      <th>1</th>\n      <td>10655</td>\n      <td>9</td>\n      <td>0</td>\n      <td>0</td>\n      <td>1</td>\n      <td>20</td>\n      <td>4</td>\n      <td>40</td>\n      <td>0</td>\n      <td>0</td>\n      <td>...</td>\n      <td>0.119724</td>\n      <td>0.174199</td>\n      <td>0.020856</td>\n      <td>0</td>\n      <td>0</td>\n      <td>0</td>\n      <td>0.00000</td>\n      <td>0.0</td>\n      <td>0.0</td>\n      <td>0</td>\n    </tr>\n    <tr>\n      <th>2</th>\n      <td>10655</td>\n      <td>9</td>\n      <td>0</td>\n      <td>0</td>\n      <td>1</td>\n      <td>20</td>\n      <td>4</td>\n      <td>40</td>\n      <td>0</td>\n      <td>0</td>\n      <td>...</td>\n      <td>0.160606</td>\n      <td>0.198780</td>\n      <td>0.031925</td>\n      <td>0</td>\n      <td>0</td>\n      <td>0</td>\n      <td>0.00000</td>\n      <td>0.0</td>\n      <td>0.0</td>\n      <td>0</td>\n    </tr>\n    <tr>\n      <th>3</th>\n      <td>10655</td>\n      <td>9</td>\n      <td>0</td>\n      <td>0</td>\n      <td>1</td>\n      <td>20</td>\n      <td>4</td>\n      <td>40</td>\n      <td>0</td>\n      <td>0</td>\n      <td>...</td>\n      <td>0.180191</td>\n      <td>0.187882</td>\n      <td>0.033855</td>\n      <td>0</td>\n      <td>0</td>\n      <td>0</td>\n      <td>0.00000</td>\n      <td>0.0</td>\n      <td>0.0</td>\n      <td>0</td>\n    </tr>\n    <tr>\n      <th>4</th>\n      <td>10655</td>\n      <td>9</td>\n      <td>0</td>\n      <td>0</td>\n      <td>1</td>\n      <td>20</td>\n      <td>4</td>\n      <td>40</td>\n      <td>0</td>\n      <td>0</td>\n      <td>...</td>\n      <td>0.117308</td>\n      <td>0.153586</td>\n      <td>0.018017</td>\n      <td>0</td>\n      <td>0</td>\n      <td>0</td>\n      <td>0.00000</td>\n      <td>0.0</td>\n      <td>0.0</td>\n      <td>0</td>\n    </tr>\n    <tr>\n      <th>...</th>\n      <td>...</td>\n      <td>...</td>\n      <td>...</td>\n      <td>...</td>\n      <td>...</td>\n      <td>...</td>\n      <td>...</td>\n      <td>...</td>\n      <td>...</td>\n      <td>...</td>\n      <td>...</td>\n      <td>...</td>\n      <td>...</td>\n      <td>...</td>\n      <td>...</td>\n      <td>...</td>\n      <td>...</td>\n      <td>...</td>\n      <td>...</td>\n      <td>...</td>\n      <td>...</td>\n    </tr>\n    <tr>\n      <th>1524</th>\n      <td>493078</td>\n      <td>9</td>\n      <td>0</td>\n      <td>0</td>\n      <td>0</td>\n      <td>9</td>\n      <td>4</td>\n      <td>35</td>\n      <td>0</td>\n      <td>0</td>\n      <td>...</td>\n      <td>0.341683</td>\n      <td>0.067348</td>\n      <td>0.023012</td>\n      <td>0</td>\n      <td>0</td>\n      <td>0</td>\n      <td>0.46108</td>\n      <td>0.0</td>\n      <td>0.0</td>\n      <td>0</td>\n    </tr>\n    <tr>\n      <th>1525</th>\n      <td>493078</td>\n      <td>9</td>\n      <td>0</td>\n      <td>0</td>\n      <td>0</td>\n      <td>9</td>\n      <td>4</td>\n      <td>35</td>\n      <td>0</td>\n      <td>0</td>\n      <td>...</td>\n      <td>0.270293</td>\n      <td>0.049000</td>\n      <td>0.013244</td>\n      <td>0</td>\n      <td>0</td>\n      <td>0</td>\n      <td>0.03674</td>\n      <td>0.0</td>\n      <td>0.0</td>\n      <td>0</td>\n    </tr>\n    <tr>\n      <th>1526</th>\n      <td>493078</td>\n      <td>9</td>\n      <td>0</td>\n      <td>0</td>\n      <td>0</td>\n      <td>9</td>\n      <td>4</td>\n      <td>35</td>\n      <td>0</td>\n      <td>0</td>\n      <td>...</td>\n      <td>0.372268</td>\n      <td>0.069882</td>\n      <td>0.026015</td>\n      <td>0</td>\n      <td>0</td>\n      <td>0</td>\n      <td>0.14540</td>\n      <td>0.0</td>\n      <td>0.0</td>\n      <td>1</td>\n    </tr>\n    <tr>\n      <th>1527</th>\n      <td>493078</td>\n      <td>9</td>\n      <td>0</td>\n      <td>0</td>\n      <td>0</td>\n      <td>9</td>\n      <td>4</td>\n      <td>35</td>\n      <td>0</td>\n      <td>0</td>\n      <td>...</td>\n      <td>0.355755</td>\n      <td>0.077469</td>\n      <td>0.027560</td>\n      <td>0</td>\n      <td>0</td>\n      <td>0</td>\n      <td>0.21288</td>\n      <td>0.0</td>\n      <td>0.0</td>\n      <td>1</td>\n    </tr>\n    <tr>\n      <th>1528</th>\n      <td>493078</td>\n      <td>9</td>\n      <td>0</td>\n      <td>0</td>\n      <td>0</td>\n      <td>9</td>\n      <td>4</td>\n      <td>35</td>\n      <td>0</td>\n      <td>0</td>\n      <td>...</td>\n      <td>0.260349</td>\n      <td>0.068786</td>\n      <td>0.017908</td>\n      <td>0</td>\n      <td>0</td>\n      <td>0</td>\n      <td>0.20751</td>\n      <td>0.0</td>\n      <td>0.0</td>\n      <td>0</td>\n    </tr>\n  </tbody>\n</table>\n<p>1529 rows × 81 columns</p>\n</div>"
     },
     "execution_count": 33,
     "metadata": {},
     "output_type": "execute_result"
    }
   ],
   "source": [
    "test_df = pd.read_csv('test_df.csv')\n",
    "test_df"
   ],
   "metadata": {
    "collapsed": false,
    "ExecuteTime": {
     "end_time": "2024-03-06T16:05:44.288673Z",
     "start_time": "2024-03-06T16:05:44.229530Z"
    }
   },
   "id": "8ac9943052c88c9c",
   "execution_count": 33
  },
  {
   "cell_type": "code",
   "outputs": [],
   "source": [
    "X_train = train_df.drop(columns=['target'])\n",
    "y_train = train_df['target']\n",
    "X_test = test_df.drop(columns=['target'])\n",
    "y_test = test_df['target']"
   ],
   "metadata": {
    "collapsed": false,
    "ExecuteTime": {
     "end_time": "2024-03-06T16:05:44.336296Z",
     "start_time": "2024-03-06T16:05:44.292992Z"
    }
   },
   "id": "a38e1e258b1fbeab",
   "execution_count": 34
  },
  {
   "cell_type": "code",
   "outputs": [],
   "source": [
    "from sklearn.metrics import ndcg_score\n",
    "\n",
    "def pipeline(model, X_train, y_train, X_test, y_test, model_name=None):\n",
    "    model.fit(X_train, y_train)\n",
    "    y_pred_proba = model.predict_proba(X_test)[:, 1]\n",
    "\n",
    "    ndcg = ndcg_score(y_test.values.reshape(1, -1), y_pred_proba.reshape(1, -1), k=X_test.shape[0])\n",
    "    if model_name:\n",
    "        print(f'NDCG на тестовых данных c использованием {model_name}: {ndcg}')\n",
    "    else:\n",
    "        print(f'NDCG на тестовых данных: {ndcg}')"
   ],
   "metadata": {
    "collapsed": false,
    "ExecuteTime": {
     "end_time": "2024-03-06T16:05:44.407856Z",
     "start_time": "2024-03-06T16:05:44.388554Z"
    }
   },
   "id": "953519eadc44ec81",
   "execution_count": 35
  },
  {
   "cell_type": "code",
   "outputs": [],
   "source": [
    "import xgboost as xgb\n",
    "\n",
    "model = xgb.XGBClassifier(\n",
    "    objective='binary:logistic',\n",
    "    n_estimators=100,\n",
    "    max_depth=6,\n",
    "    learning_rate=0.1,\n",
    ")"
   ],
   "metadata": {
    "collapsed": false,
    "ExecuteTime": {
     "end_time": "2024-03-06T16:05:44.441307Z",
     "start_time": "2024-03-06T16:05:44.412620Z"
    }
   },
   "id": "1918176476984ad7",
   "execution_count": 36
  },
  {
   "cell_type": "code",
   "outputs": [
    {
     "name": "stdout",
     "output_type": "stream",
     "text": [
      "NDCG на тестовых данных c использованием XGBoostClassifier: 0.48580860296132844\n"
     ]
    }
   ],
   "source": [
    "pipeline(model, X_train, y_train, X_test, y_test, model_name='XGBoostClassifier')"
   ],
   "metadata": {
    "collapsed": false,
    "ExecuteTime": {
     "end_time": "2024-03-06T16:06:09.535429Z",
     "start_time": "2024-03-06T16:05:44.444960Z"
    }
   },
   "id": "ad8d9e88f4725c49",
   "execution_count": 37
  },
  {
   "cell_type": "code",
   "outputs": [],
   "source": [
    "import lightgbm as lgb\n",
    "\n",
    "params = {\n",
    "    'objective': 'binary',\n",
    "    'metric': 'binary_logloss'\n",
    "}\n",
    "\n",
    "model = lgb.LGBMClassifier(**params)"
   ],
   "metadata": {
    "collapsed": false,
    "ExecuteTime": {
     "end_time": "2024-03-06T16:06:09.582567Z",
     "start_time": "2024-03-06T16:06:09.540721Z"
    }
   },
   "id": "404783c063ebd40",
   "execution_count": 38
  },
  {
   "cell_type": "code",
   "outputs": [
    {
     "name": "stdout",
     "output_type": "stream",
     "text": [
      "[LightGBM] [Info] Number of positive: 322, number of negative: 14759\n",
      "[LightGBM] [Info] Auto-choosing col-wise multi-threading, the overhead of testing was 0.030590 seconds.\n",
      "You can set `force_col_wise=true` to remove the overhead.\n",
      "[LightGBM] [Info] Total Bins 12703\n",
      "[LightGBM] [Info] Number of data points in the train set: 15081, number of used features: 76\n",
      "[LightGBM] [Info] [binary:BoostFromScore]: pavg=0.021351 -> initscore=-3.825057\n",
      "[LightGBM] [Info] Start training from score -3.825057\n",
      "NDCG на тестовых данных c использованием LGBMClassifier: 0.4537606445974451\n"
     ]
    }
   ],
   "source": [
    "pipeline(model, X_train, y_train, X_test, y_test, model_name='LGBMClassifier')"
   ],
   "metadata": {
    "collapsed": false,
    "ExecuteTime": {
     "end_time": "2024-03-06T16:06:11.860265Z",
     "start_time": "2024-03-06T16:06:09.590451Z"
    }
   },
   "id": "4693463cdaec804",
   "execution_count": 39
  },
  {
   "cell_type": "code",
   "outputs": [],
   "source": [
    "from catboost import CatBoostClassifier\n",
    "\n",
    "model = CatBoostClassifier(\n",
    "    iterations=100,  \n",
    "    learning_rate=0.1,  \n",
    "    depth=6,  \n",
    "    loss_function='Logloss', \n",
    ")"
   ],
   "metadata": {
    "collapsed": false,
    "ExecuteTime": {
     "end_time": "2024-03-06T16:06:11.891385Z",
     "start_time": "2024-03-06T16:06:11.866485Z"
    }
   },
   "id": "e0c65ce0a8fadeac",
   "execution_count": 40
  },
  {
   "cell_type": "code",
   "outputs": [
    {
     "data": {
      "text/plain": "<catboost.core.CatBoostClassifier at 0x23986f09220>"
     },
     "execution_count": 41,
     "metadata": {},
     "output_type": "execute_result"
    }
   ],
   "source": [
    "model.fit(X_train, y_train, eval_set=(X_test, y_test), verbose=False)"
   ],
   "metadata": {
    "collapsed": false,
    "ExecuteTime": {
     "end_time": "2024-03-06T16:06:15.787593Z",
     "start_time": "2024-03-06T16:06:11.894726Z"
    }
   },
   "id": "2bece27c15368022",
   "execution_count": 41
  },
  {
   "cell_type": "code",
   "outputs": [
    {
     "name": "stdout",
     "output_type": "stream",
     "text": [
      "NDCG на тестовых данных с использованием CatBoost: 0.5681496636375397\n"
     ]
    }
   ],
   "source": [
    "y_pred_proba = model.predict_proba(X_test)[:, 1]\n",
    "\n",
    "ndcg = ndcg_score(y_test.values.reshape(1, -1), y_pred_proba.reshape(1, -1), k=X_test.shape[0])\n",
    "print(f'NDCG на тестовых данных с использованием CatBoost: {ndcg}')"
   ],
   "metadata": {
    "collapsed": false,
    "ExecuteTime": {
     "end_time": "2024-03-06T16:06:15.819222Z",
     "start_time": "2024-03-06T16:06:15.790320Z"
    }
   },
   "id": "599df28a14cffb9d",
   "execution_count": 42
  },
  {
   "cell_type": "code",
   "outputs": [],
   "source": [
    "from sklearn.ensemble import RandomForestClassifier\n",
    "\n",
    "model = RandomForestClassifier(\n",
    "    n_estimators=100,  \n",
    "    max_depth=10,  \n",
    ")"
   ],
   "metadata": {
    "collapsed": false,
    "ExecuteTime": {
     "end_time": "2024-03-06T16:06:16.611772Z",
     "start_time": "2024-03-06T16:06:15.821540Z"
    }
   },
   "id": "aa267f79ca752663",
   "execution_count": 43
  },
  {
   "cell_type": "code",
   "outputs": [
    {
     "name": "stdout",
     "output_type": "stream",
     "text": [
      "NDCG на тестовых данных c использованием RandomForestClassifier: 0.5230119850581413\n"
     ]
    }
   ],
   "source": [
    "pipeline(model, X_train, y_train, X_test, y_test, model_name='RandomForestClassifier')"
   ],
   "metadata": {
    "collapsed": false,
    "ExecuteTime": {
     "end_time": "2024-03-06T16:06:21.773267Z",
     "start_time": "2024-03-06T16:06:16.615391Z"
    }
   },
   "id": "a3a4acf9233fd8fa",
   "execution_count": 44
  },
  {
   "cell_type": "code",
   "outputs": [],
   "source": [
    "from sklearn.neighbors import KNeighborsClassifier\n",
    "\n",
    "model = KNeighborsClassifier(\n",
    "    n_neighbors=5,  \n",
    "    weights='uniform'  \n",
    ")"
   ],
   "metadata": {
    "collapsed": false,
    "ExecuteTime": {
     "end_time": "2024-03-06T16:09:16.361823Z",
     "start_time": "2024-03-06T16:09:16.341004Z"
    }
   },
   "id": "b4d8b95f89cd5aba",
   "execution_count": 54
  },
  {
   "cell_type": "code",
   "outputs": [
    {
     "name": "stdout",
     "output_type": "stream",
     "text": [
      "NDCG на тестовых данных c использованием KNNClassifier: 0.41750638285686853\n"
     ]
    }
   ],
   "source": [
    "pipeline(model, X_train, y_train, X_test, y_test, model_name='KNNClassifier')"
   ],
   "metadata": {
    "collapsed": false,
    "ExecuteTime": {
     "end_time": "2024-03-06T16:09:18.776881Z",
     "start_time": "2024-03-06T16:09:17.113225Z"
    }
   },
   "id": "a31ccf25451c1c8e",
   "execution_count": 55
  },
  {
   "cell_type": "code",
   "outputs": [],
   "source": [
    "from sklearn.svm import SVC\n",
    "\n",
    "model = SVC(probability=True)"
   ],
   "metadata": {
    "collapsed": false,
    "ExecuteTime": {
     "end_time": "2024-03-06T16:10:05.267535Z",
     "start_time": "2024-03-06T16:10:05.242107Z"
    }
   },
   "id": "69bdbfa369e407a6",
   "execution_count": 56
  },
  {
   "cell_type": "code",
   "outputs": [
    {
     "name": "stdout",
     "output_type": "stream",
     "text": [
      "NDCG на тестовых данных c использованием SVCClassifier: 0.46836249408171576\n"
     ]
    }
   ],
   "source": [
    "pipeline(model, X_train, y_train, X_test, y_test, model_name='SVCClassifier')"
   ],
   "metadata": {
    "collapsed": false,
    "ExecuteTime": {
     "end_time": "2024-03-06T16:10:45.894546Z",
     "start_time": "2024-03-06T16:10:14.673972Z"
    }
   },
   "id": "69bba5496b1f5ecc",
   "execution_count": 57
  },
  {
   "cell_type": "code",
   "outputs": [],
   "source": [],
   "metadata": {
    "collapsed": false
   },
   "id": "13904be3c65f4d3b"
  }
 ],
 "metadata": {
  "kernelspec": {
   "display_name": "Python 3",
   "language": "python",
   "name": "python3"
  },
  "language_info": {
   "codemirror_mode": {
    "name": "ipython",
    "version": 2
   },
   "file_extension": ".py",
   "mimetype": "text/x-python",
   "name": "python",
   "nbconvert_exporter": "python",
   "pygments_lexer": "ipython2",
   "version": "2.7.6"
  }
 },
 "nbformat": 4,
 "nbformat_minor": 5
}
