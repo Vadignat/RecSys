{
 "cells": [
  {
   "cell_type": "code",
   "execution_count": 2,
   "id": "initial_id",
   "metadata": {
    "collapsed": true,
    "ExecuteTime": {
     "end_time": "2024-03-07T12:59:05.181722Z",
     "start_time": "2024-03-07T12:58:59.248730Z"
    }
   },
   "outputs": [],
   "source": [
    "import pandas as pd"
   ]
  },
  {
   "cell_type": "code",
   "outputs": [
    {
     "data": {
      "text/plain": "       search_id  feature_0  feature_1  feature_2  feature_3  feature_4  \\\n0            758          9          0          0          1         20   \n1            758          9          0          0          1         20   \n2            758          9          0          0          1         20   \n3            758          9          0          0          1         20   \n4            758          9          0          0          1         20   \n...          ...        ...        ...        ...        ...        ...   \n15076     494693          9          0          0          0          9   \n15077     494693          9          0          0          0          9   \n15078     494693          9          0          0          0          9   \n15079     494693          9          0          0          0          9   \n15080     494693          9          0          0          0          9   \n\n       feature_5  feature_6  feature_7  feature_8  ...  feature_70  \\\n0              3         40          0          3  ...    0.204682   \n1              3         40          0          3  ...    0.195531   \n2              3         40          0          3  ...    0.148609   \n3              3         40          0          3  ...    0.223748   \n4              3         40          0          3  ...    0.170935   \n...          ...        ...        ...        ...  ...         ...   \n15076          4         38          6          6  ...    0.309672   \n15077          4         38          6          6  ...    0.303805   \n15078          4         38          6          6  ...    0.346538   \n15079          4         38          6          6  ...    0.243154   \n15080          4         38          6          6  ...    0.294564   \n\n       feature_71  feature_72  feature_73  feature_74  feature_75  feature_76  \\\n0        0.271755    0.055623           0           0           0     0.38648   \n1        0.188787    0.036914           0           0           0     0.10982   \n2        0.186517    0.027718           0           0           0     0.03674   \n3        0.229039    0.051247           0           0           0     0.00000   \n4        0.249031    0.042568           0           0           0     0.00000   \n...           ...         ...         ...         ...         ...         ...   \n15076    0.921060    0.285226           0           0           0     0.98807   \n15077    0.995086    0.302312           0           0           0     0.87146   \n15078    0.993070    0.344137           0           0           0     0.49999   \n15079    0.994833    0.241898           0           0           0     0.67614   \n15080    0.987208    0.290796           0           0           0     0.53674   \n\n       feature_77  feature_78  target  \n0             0.0         0.0       0  \n1             0.0         0.0       0  \n2             0.0         0.0       0  \n3             0.0         0.0       0  \n4             0.0         0.0       0  \n...           ...         ...     ...  \n15076         0.0         0.0       0  \n15077         0.0         0.0       0  \n15078         0.0         0.0       0  \n15079         0.0         0.0       0  \n15080         0.0         0.0       1  \n\n[15081 rows x 81 columns]",
      "text/html": "<div>\n<style scoped>\n    .dataframe tbody tr th:only-of-type {\n        vertical-align: middle;\n    }\n\n    .dataframe tbody tr th {\n        vertical-align: top;\n    }\n\n    .dataframe thead th {\n        text-align: right;\n    }\n</style>\n<table border=\"1\" class=\"dataframe\">\n  <thead>\n    <tr style=\"text-align: right;\">\n      <th></th>\n      <th>search_id</th>\n      <th>feature_0</th>\n      <th>feature_1</th>\n      <th>feature_2</th>\n      <th>feature_3</th>\n      <th>feature_4</th>\n      <th>feature_5</th>\n      <th>feature_6</th>\n      <th>feature_7</th>\n      <th>feature_8</th>\n      <th>...</th>\n      <th>feature_70</th>\n      <th>feature_71</th>\n      <th>feature_72</th>\n      <th>feature_73</th>\n      <th>feature_74</th>\n      <th>feature_75</th>\n      <th>feature_76</th>\n      <th>feature_77</th>\n      <th>feature_78</th>\n      <th>target</th>\n    </tr>\n  </thead>\n  <tbody>\n    <tr>\n      <th>0</th>\n      <td>758</td>\n      <td>9</td>\n      <td>0</td>\n      <td>0</td>\n      <td>1</td>\n      <td>20</td>\n      <td>3</td>\n      <td>40</td>\n      <td>0</td>\n      <td>3</td>\n      <td>...</td>\n      <td>0.204682</td>\n      <td>0.271755</td>\n      <td>0.055623</td>\n      <td>0</td>\n      <td>0</td>\n      <td>0</td>\n      <td>0.38648</td>\n      <td>0.0</td>\n      <td>0.0</td>\n      <td>0</td>\n    </tr>\n    <tr>\n      <th>1</th>\n      <td>758</td>\n      <td>9</td>\n      <td>0</td>\n      <td>0</td>\n      <td>1</td>\n      <td>20</td>\n      <td>3</td>\n      <td>40</td>\n      <td>0</td>\n      <td>3</td>\n      <td>...</td>\n      <td>0.195531</td>\n      <td>0.188787</td>\n      <td>0.036914</td>\n      <td>0</td>\n      <td>0</td>\n      <td>0</td>\n      <td>0.10982</td>\n      <td>0.0</td>\n      <td>0.0</td>\n      <td>0</td>\n    </tr>\n    <tr>\n      <th>2</th>\n      <td>758</td>\n      <td>9</td>\n      <td>0</td>\n      <td>0</td>\n      <td>1</td>\n      <td>20</td>\n      <td>3</td>\n      <td>40</td>\n      <td>0</td>\n      <td>3</td>\n      <td>...</td>\n      <td>0.148609</td>\n      <td>0.186517</td>\n      <td>0.027718</td>\n      <td>0</td>\n      <td>0</td>\n      <td>0</td>\n      <td>0.03674</td>\n      <td>0.0</td>\n      <td>0.0</td>\n      <td>0</td>\n    </tr>\n    <tr>\n      <th>3</th>\n      <td>758</td>\n      <td>9</td>\n      <td>0</td>\n      <td>0</td>\n      <td>1</td>\n      <td>20</td>\n      <td>3</td>\n      <td>40</td>\n      <td>0</td>\n      <td>3</td>\n      <td>...</td>\n      <td>0.223748</td>\n      <td>0.229039</td>\n      <td>0.051247</td>\n      <td>0</td>\n      <td>0</td>\n      <td>0</td>\n      <td>0.00000</td>\n      <td>0.0</td>\n      <td>0.0</td>\n      <td>0</td>\n    </tr>\n    <tr>\n      <th>4</th>\n      <td>758</td>\n      <td>9</td>\n      <td>0</td>\n      <td>0</td>\n      <td>1</td>\n      <td>20</td>\n      <td>3</td>\n      <td>40</td>\n      <td>0</td>\n      <td>3</td>\n      <td>...</td>\n      <td>0.170935</td>\n      <td>0.249031</td>\n      <td>0.042568</td>\n      <td>0</td>\n      <td>0</td>\n      <td>0</td>\n      <td>0.00000</td>\n      <td>0.0</td>\n      <td>0.0</td>\n      <td>0</td>\n    </tr>\n    <tr>\n      <th>...</th>\n      <td>...</td>\n      <td>...</td>\n      <td>...</td>\n      <td>...</td>\n      <td>...</td>\n      <td>...</td>\n      <td>...</td>\n      <td>...</td>\n      <td>...</td>\n      <td>...</td>\n      <td>...</td>\n      <td>...</td>\n      <td>...</td>\n      <td>...</td>\n      <td>...</td>\n      <td>...</td>\n      <td>...</td>\n      <td>...</td>\n      <td>...</td>\n      <td>...</td>\n      <td>...</td>\n    </tr>\n    <tr>\n      <th>15076</th>\n      <td>494693</td>\n      <td>9</td>\n      <td>0</td>\n      <td>0</td>\n      <td>0</td>\n      <td>9</td>\n      <td>4</td>\n      <td>38</td>\n      <td>6</td>\n      <td>6</td>\n      <td>...</td>\n      <td>0.309672</td>\n      <td>0.921060</td>\n      <td>0.285226</td>\n      <td>0</td>\n      <td>0</td>\n      <td>0</td>\n      <td>0.98807</td>\n      <td>0.0</td>\n      <td>0.0</td>\n      <td>0</td>\n    </tr>\n    <tr>\n      <th>15077</th>\n      <td>494693</td>\n      <td>9</td>\n      <td>0</td>\n      <td>0</td>\n      <td>0</td>\n      <td>9</td>\n      <td>4</td>\n      <td>38</td>\n      <td>6</td>\n      <td>6</td>\n      <td>...</td>\n      <td>0.303805</td>\n      <td>0.995086</td>\n      <td>0.302312</td>\n      <td>0</td>\n      <td>0</td>\n      <td>0</td>\n      <td>0.87146</td>\n      <td>0.0</td>\n      <td>0.0</td>\n      <td>0</td>\n    </tr>\n    <tr>\n      <th>15078</th>\n      <td>494693</td>\n      <td>9</td>\n      <td>0</td>\n      <td>0</td>\n      <td>0</td>\n      <td>9</td>\n      <td>4</td>\n      <td>38</td>\n      <td>6</td>\n      <td>6</td>\n      <td>...</td>\n      <td>0.346538</td>\n      <td>0.993070</td>\n      <td>0.344137</td>\n      <td>0</td>\n      <td>0</td>\n      <td>0</td>\n      <td>0.49999</td>\n      <td>0.0</td>\n      <td>0.0</td>\n      <td>0</td>\n    </tr>\n    <tr>\n      <th>15079</th>\n      <td>494693</td>\n      <td>9</td>\n      <td>0</td>\n      <td>0</td>\n      <td>0</td>\n      <td>9</td>\n      <td>4</td>\n      <td>38</td>\n      <td>6</td>\n      <td>6</td>\n      <td>...</td>\n      <td>0.243154</td>\n      <td>0.994833</td>\n      <td>0.241898</td>\n      <td>0</td>\n      <td>0</td>\n      <td>0</td>\n      <td>0.67614</td>\n      <td>0.0</td>\n      <td>0.0</td>\n      <td>0</td>\n    </tr>\n    <tr>\n      <th>15080</th>\n      <td>494693</td>\n      <td>9</td>\n      <td>0</td>\n      <td>0</td>\n      <td>0</td>\n      <td>9</td>\n      <td>4</td>\n      <td>38</td>\n      <td>6</td>\n      <td>6</td>\n      <td>...</td>\n      <td>0.294564</td>\n      <td>0.987208</td>\n      <td>0.290796</td>\n      <td>0</td>\n      <td>0</td>\n      <td>0</td>\n      <td>0.53674</td>\n      <td>0.0</td>\n      <td>0.0</td>\n      <td>1</td>\n    </tr>\n  </tbody>\n</table>\n<p>15081 rows × 81 columns</p>\n</div>"
     },
     "execution_count": 3,
     "metadata": {},
     "output_type": "execute_result"
    }
   ],
   "source": [
    "train_df = pd.read_csv('train_df.csv')\n",
    "train_df"
   ],
   "metadata": {
    "collapsed": false,
    "ExecuteTime": {
     "end_time": "2024-03-07T12:59:05.403983Z",
     "start_time": "2024-03-07T12:59:05.182585Z"
    }
   },
   "id": "5f15642f282e3107",
   "execution_count": 3
  },
  {
   "cell_type": "code",
   "outputs": [
    {
     "data": {
      "text/plain": "      search_id  feature_0  feature_1  feature_2  feature_3  feature_4  \\\n0         10655          9          0          0          1         20   \n1         10655          9          0          0          1         20   \n2         10655          9          0          0          1         20   \n3         10655          9          0          0          1         20   \n4         10655          9          0          0          1         20   \n...         ...        ...        ...        ...        ...        ...   \n1524     493078          9          0          0          0          9   \n1525     493078          9          0          0          0          9   \n1526     493078          9          0          0          0          9   \n1527     493078          9          0          0          0          9   \n1528     493078          9          0          0          0          9   \n\n      feature_5  feature_6  feature_7  feature_8  ...  feature_70  feature_71  \\\n0             4         40          0          0  ...    0.148830    0.196644   \n1             4         40          0          0  ...    0.119724    0.174199   \n2             4         40          0          0  ...    0.160606    0.198780   \n3             4         40          0          0  ...    0.180191    0.187882   \n4             4         40          0          0  ...    0.117308    0.153586   \n...         ...        ...        ...        ...  ...         ...         ...   \n1524          4         35          0          0  ...    0.341683    0.067348   \n1525          4         35          0          0  ...    0.270293    0.049000   \n1526          4         35          0          0  ...    0.372268    0.069882   \n1527          4         35          0          0  ...    0.355755    0.077469   \n1528          4         35          0          0  ...    0.260349    0.068786   \n\n      feature_72  feature_73  feature_74  feature_75  feature_76  feature_77  \\\n0       0.029267           0           0           0     0.03674         0.0   \n1       0.020856           0           0           0     0.00000         0.0   \n2       0.031925           0           0           0     0.00000         0.0   \n3       0.033855           0           0           0     0.00000         0.0   \n4       0.018017           0           0           0     0.00000         0.0   \n...          ...         ...         ...         ...         ...         ...   \n1524    0.023012           0           0           0     0.46108         0.0   \n1525    0.013244           0           0           0     0.03674         0.0   \n1526    0.026015           0           0           0     0.14540         0.0   \n1527    0.027560           0           0           0     0.21288         0.0   \n1528    0.017908           0           0           0     0.20751         0.0   \n\n      feature_78  target  \n0            0.0       0  \n1            0.0       0  \n2            0.0       0  \n3            0.0       0  \n4            0.0       0  \n...          ...     ...  \n1524         0.0       0  \n1525         0.0       0  \n1526         0.0       1  \n1527         0.0       1  \n1528         0.0       0  \n\n[1529 rows x 81 columns]",
      "text/html": "<div>\n<style scoped>\n    .dataframe tbody tr th:only-of-type {\n        vertical-align: middle;\n    }\n\n    .dataframe tbody tr th {\n        vertical-align: top;\n    }\n\n    .dataframe thead th {\n        text-align: right;\n    }\n</style>\n<table border=\"1\" class=\"dataframe\">\n  <thead>\n    <tr style=\"text-align: right;\">\n      <th></th>\n      <th>search_id</th>\n      <th>feature_0</th>\n      <th>feature_1</th>\n      <th>feature_2</th>\n      <th>feature_3</th>\n      <th>feature_4</th>\n      <th>feature_5</th>\n      <th>feature_6</th>\n      <th>feature_7</th>\n      <th>feature_8</th>\n      <th>...</th>\n      <th>feature_70</th>\n      <th>feature_71</th>\n      <th>feature_72</th>\n      <th>feature_73</th>\n      <th>feature_74</th>\n      <th>feature_75</th>\n      <th>feature_76</th>\n      <th>feature_77</th>\n      <th>feature_78</th>\n      <th>target</th>\n    </tr>\n  </thead>\n  <tbody>\n    <tr>\n      <th>0</th>\n      <td>10655</td>\n      <td>9</td>\n      <td>0</td>\n      <td>0</td>\n      <td>1</td>\n      <td>20</td>\n      <td>4</td>\n      <td>40</td>\n      <td>0</td>\n      <td>0</td>\n      <td>...</td>\n      <td>0.148830</td>\n      <td>0.196644</td>\n      <td>0.029267</td>\n      <td>0</td>\n      <td>0</td>\n      <td>0</td>\n      <td>0.03674</td>\n      <td>0.0</td>\n      <td>0.0</td>\n      <td>0</td>\n    </tr>\n    <tr>\n      <th>1</th>\n      <td>10655</td>\n      <td>9</td>\n      <td>0</td>\n      <td>0</td>\n      <td>1</td>\n      <td>20</td>\n      <td>4</td>\n      <td>40</td>\n      <td>0</td>\n      <td>0</td>\n      <td>...</td>\n      <td>0.119724</td>\n      <td>0.174199</td>\n      <td>0.020856</td>\n      <td>0</td>\n      <td>0</td>\n      <td>0</td>\n      <td>0.00000</td>\n      <td>0.0</td>\n      <td>0.0</td>\n      <td>0</td>\n    </tr>\n    <tr>\n      <th>2</th>\n      <td>10655</td>\n      <td>9</td>\n      <td>0</td>\n      <td>0</td>\n      <td>1</td>\n      <td>20</td>\n      <td>4</td>\n      <td>40</td>\n      <td>0</td>\n      <td>0</td>\n      <td>...</td>\n      <td>0.160606</td>\n      <td>0.198780</td>\n      <td>0.031925</td>\n      <td>0</td>\n      <td>0</td>\n      <td>0</td>\n      <td>0.00000</td>\n      <td>0.0</td>\n      <td>0.0</td>\n      <td>0</td>\n    </tr>\n    <tr>\n      <th>3</th>\n      <td>10655</td>\n      <td>9</td>\n      <td>0</td>\n      <td>0</td>\n      <td>1</td>\n      <td>20</td>\n      <td>4</td>\n      <td>40</td>\n      <td>0</td>\n      <td>0</td>\n      <td>...</td>\n      <td>0.180191</td>\n      <td>0.187882</td>\n      <td>0.033855</td>\n      <td>0</td>\n      <td>0</td>\n      <td>0</td>\n      <td>0.00000</td>\n      <td>0.0</td>\n      <td>0.0</td>\n      <td>0</td>\n    </tr>\n    <tr>\n      <th>4</th>\n      <td>10655</td>\n      <td>9</td>\n      <td>0</td>\n      <td>0</td>\n      <td>1</td>\n      <td>20</td>\n      <td>4</td>\n      <td>40</td>\n      <td>0</td>\n      <td>0</td>\n      <td>...</td>\n      <td>0.117308</td>\n      <td>0.153586</td>\n      <td>0.018017</td>\n      <td>0</td>\n      <td>0</td>\n      <td>0</td>\n      <td>0.00000</td>\n      <td>0.0</td>\n      <td>0.0</td>\n      <td>0</td>\n    </tr>\n    <tr>\n      <th>...</th>\n      <td>...</td>\n      <td>...</td>\n      <td>...</td>\n      <td>...</td>\n      <td>...</td>\n      <td>...</td>\n      <td>...</td>\n      <td>...</td>\n      <td>...</td>\n      <td>...</td>\n      <td>...</td>\n      <td>...</td>\n      <td>...</td>\n      <td>...</td>\n      <td>...</td>\n      <td>...</td>\n      <td>...</td>\n      <td>...</td>\n      <td>...</td>\n      <td>...</td>\n      <td>...</td>\n    </tr>\n    <tr>\n      <th>1524</th>\n      <td>493078</td>\n      <td>9</td>\n      <td>0</td>\n      <td>0</td>\n      <td>0</td>\n      <td>9</td>\n      <td>4</td>\n      <td>35</td>\n      <td>0</td>\n      <td>0</td>\n      <td>...</td>\n      <td>0.341683</td>\n      <td>0.067348</td>\n      <td>0.023012</td>\n      <td>0</td>\n      <td>0</td>\n      <td>0</td>\n      <td>0.46108</td>\n      <td>0.0</td>\n      <td>0.0</td>\n      <td>0</td>\n    </tr>\n    <tr>\n      <th>1525</th>\n      <td>493078</td>\n      <td>9</td>\n      <td>0</td>\n      <td>0</td>\n      <td>0</td>\n      <td>9</td>\n      <td>4</td>\n      <td>35</td>\n      <td>0</td>\n      <td>0</td>\n      <td>...</td>\n      <td>0.270293</td>\n      <td>0.049000</td>\n      <td>0.013244</td>\n      <td>0</td>\n      <td>0</td>\n      <td>0</td>\n      <td>0.03674</td>\n      <td>0.0</td>\n      <td>0.0</td>\n      <td>0</td>\n    </tr>\n    <tr>\n      <th>1526</th>\n      <td>493078</td>\n      <td>9</td>\n      <td>0</td>\n      <td>0</td>\n      <td>0</td>\n      <td>9</td>\n      <td>4</td>\n      <td>35</td>\n      <td>0</td>\n      <td>0</td>\n      <td>...</td>\n      <td>0.372268</td>\n      <td>0.069882</td>\n      <td>0.026015</td>\n      <td>0</td>\n      <td>0</td>\n      <td>0</td>\n      <td>0.14540</td>\n      <td>0.0</td>\n      <td>0.0</td>\n      <td>1</td>\n    </tr>\n    <tr>\n      <th>1527</th>\n      <td>493078</td>\n      <td>9</td>\n      <td>0</td>\n      <td>0</td>\n      <td>0</td>\n      <td>9</td>\n      <td>4</td>\n      <td>35</td>\n      <td>0</td>\n      <td>0</td>\n      <td>...</td>\n      <td>0.355755</td>\n      <td>0.077469</td>\n      <td>0.027560</td>\n      <td>0</td>\n      <td>0</td>\n      <td>0</td>\n      <td>0.21288</td>\n      <td>0.0</td>\n      <td>0.0</td>\n      <td>1</td>\n    </tr>\n    <tr>\n      <th>1528</th>\n      <td>493078</td>\n      <td>9</td>\n      <td>0</td>\n      <td>0</td>\n      <td>0</td>\n      <td>9</td>\n      <td>4</td>\n      <td>35</td>\n      <td>0</td>\n      <td>0</td>\n      <td>...</td>\n      <td>0.260349</td>\n      <td>0.068786</td>\n      <td>0.017908</td>\n      <td>0</td>\n      <td>0</td>\n      <td>0</td>\n      <td>0.20751</td>\n      <td>0.0</td>\n      <td>0.0</td>\n      <td>0</td>\n    </tr>\n  </tbody>\n</table>\n<p>1529 rows × 81 columns</p>\n</div>"
     },
     "execution_count": 4,
     "metadata": {},
     "output_type": "execute_result"
    }
   ],
   "source": [
    "test_df = pd.read_csv('test_df.csv')\n",
    "test_df"
   ],
   "metadata": {
    "collapsed": false,
    "ExecuteTime": {
     "end_time": "2024-03-07T12:59:05.467984Z",
     "start_time": "2024-03-07T12:59:05.405983Z"
    }
   },
   "id": "8ac9943052c88c9c",
   "execution_count": 4
  },
  {
   "cell_type": "code",
   "outputs": [],
   "source": [
    "X_train = train_df.drop(columns=['target'])\n",
    "y_train = train_df['target']\n",
    "X_test = test_df.drop(columns=['target'])\n",
    "y_test = test_df['target']"
   ],
   "metadata": {
    "collapsed": false,
    "ExecuteTime": {
     "end_time": "2024-03-07T12:59:05.499558Z",
     "start_time": "2024-03-07T12:59:05.471009Z"
    }
   },
   "id": "a38e1e258b1fbeab",
   "execution_count": 5
  },
  {
   "cell_type": "code",
   "outputs": [],
   "source": [
    "from sklearn.metrics import ndcg_score\n",
    "\n",
    "def pipeline(model, X_train, y_train, X_test, y_test, model_name=None):\n",
    "    model.fit(X_train, y_train)\n",
    "    y_pred_proba = model.predict_proba(X_test)[:, 1]\n",
    "\n",
    "    ndcg = ndcg_score(y_test.values.reshape(1, -1), y_pred_proba.reshape(1, -1), k=X_test.shape[0])\n",
    "    if model_name:\n",
    "        print(f'NDCG на тестовых данных c использованием {model_name}: {ndcg}')\n",
    "    else:\n",
    "        print(f'NDCG на тестовых данных: {ndcg}')"
   ],
   "metadata": {
    "collapsed": false,
    "ExecuteTime": {
     "end_time": "2024-03-07T12:59:05.515564Z",
     "start_time": "2024-03-07T12:59:05.502557Z"
    }
   },
   "id": "953519eadc44ec81",
   "execution_count": 6
  },
  {
   "cell_type": "code",
   "outputs": [],
   "source": [
    "import xgboost as xgb\n",
    "\n",
    "model = xgb.XGBClassifier(\n",
    "    objective='binary:logistic',\n",
    "    n_estimators=100,\n",
    "    max_depth=6,\n",
    "    learning_rate=0.1,\n",
    ")"
   ],
   "metadata": {
    "collapsed": false,
    "ExecuteTime": {
     "end_time": "2024-03-07T12:59:06.807873Z",
     "start_time": "2024-03-07T12:59:05.517559Z"
    }
   },
   "id": "1918176476984ad7",
   "execution_count": 7
  },
  {
   "cell_type": "code",
   "outputs": [
    {
     "name": "stdout",
     "output_type": "stream",
     "text": [
      "NDCG на тестовых данных c использованием XGBoostClassifier: 0.4750232110634362\n"
     ]
    }
   ],
   "source": [
    "pipeline(model, X_train, y_train, X_test, y_test, model_name='XGBoostClassifier')"
   ],
   "metadata": {
    "collapsed": false,
    "ExecuteTime": {
     "end_time": "2024-03-07T12:59:17.702150Z",
     "start_time": "2024-03-07T12:59:06.812906Z"
    }
   },
   "id": "ad8d9e88f4725c49",
   "execution_count": 8
  },
  {
   "cell_type": "code",
   "outputs": [],
   "source": [
    "import lightgbm as lgb\n",
    "\n",
    "params = {\n",
    "    'objective': 'binary',\n",
    "    'metric': 'binary_logloss'\n",
    "}\n",
    "\n",
    "model = lgb.LGBMClassifier(**params)"
   ],
   "metadata": {
    "collapsed": false,
    "ExecuteTime": {
     "end_time": "2024-03-07T12:59:24.562050Z",
     "start_time": "2024-03-07T12:59:17.704927Z"
    }
   },
   "id": "404783c063ebd40",
   "execution_count": 9
  },
  {
   "cell_type": "code",
   "outputs": [
    {
     "name": "stdout",
     "output_type": "stream",
     "text": [
      "[LightGBM] [Info] Number of positive: 322, number of negative: 14759\n",
      "[LightGBM] [Info] Auto-choosing row-wise multi-threading, the overhead of testing was 0.005462 seconds.\n",
      "You can set `force_row_wise=true` to remove the overhead.\n",
      "And if memory is not enough, you can set `force_col_wise=true`.\n",
      "[LightGBM] [Info] Total Bins 12703\n",
      "[LightGBM] [Info] Number of data points in the train set: 15081, number of used features: 76\n",
      "[LightGBM] [Info] [binary:BoostFromScore]: pavg=0.021351 -> initscore=-3.825057\n",
      "[LightGBM] [Info] Start training from score -3.825057\n",
      "NDCG на тестовых данных c использованием LGBMClassifier: 0.4537606445974451\n"
     ]
    }
   ],
   "source": [
    "pipeline(model, X_train, y_train, X_test, y_test, model_name='LGBMClassifier')"
   ],
   "metadata": {
    "collapsed": false,
    "ExecuteTime": {
     "end_time": "2024-03-07T12:59:25.565286Z",
     "start_time": "2024-03-07T12:59:24.564423Z"
    }
   },
   "id": "4693463cdaec804",
   "execution_count": 10
  },
  {
   "cell_type": "code",
   "outputs": [],
   "source": [
    "from catboost import CatBoostClassifier\n",
    "\n",
    "model = CatBoostClassifier(\n",
    "    iterations=100,  \n",
    "    learning_rate=0.1,  \n",
    "    depth=6,  \n",
    "    loss_function='Logloss', \n",
    ")"
   ],
   "metadata": {
    "collapsed": false,
    "ExecuteTime": {
     "end_time": "2024-03-07T12:59:26.561707Z",
     "start_time": "2024-03-07T12:59:25.566286Z"
    }
   },
   "id": "e0c65ce0a8fadeac",
   "execution_count": 11
  },
  {
   "cell_type": "code",
   "outputs": [
    {
     "data": {
      "text/plain": "<catboost.core.CatBoostClassifier at 0x152b8134a60>"
     },
     "execution_count": 12,
     "metadata": {},
     "output_type": "execute_result"
    }
   ],
   "source": [
    "model.fit(X_train, y_train, eval_set=(X_test, y_test), verbose=False)"
   ],
   "metadata": {
    "collapsed": false,
    "ExecuteTime": {
     "end_time": "2024-03-07T12:59:28.141083Z",
     "start_time": "2024-03-07T12:59:26.563675Z"
    }
   },
   "id": "2bece27c15368022",
   "execution_count": 12
  },
  {
   "cell_type": "code",
   "outputs": [
    {
     "name": "stdout",
     "output_type": "stream",
     "text": [
      "NDCG на тестовых данных с использованием CatBoost: 0.5681496636375397\n"
     ]
    }
   ],
   "source": [
    "y_pred_proba = model.predict_proba(X_test)[:, 1]\n",
    "\n",
    "ndcg = ndcg_score(y_test.values.reshape(1, -1), y_pred_proba.reshape(1, -1), k=X_test.shape[0])\n",
    "print(f'NDCG на тестовых данных с использованием CatBoost: {ndcg}')"
   ],
   "metadata": {
    "collapsed": false,
    "ExecuteTime": {
     "end_time": "2024-03-07T12:59:28.172160Z",
     "start_time": "2024-03-07T12:59:28.142063Z"
    }
   },
   "id": "599df28a14cffb9d",
   "execution_count": 13
  },
  {
   "cell_type": "code",
   "outputs": [],
   "source": [
    "from sklearn.ensemble import RandomForestClassifier\n",
    "\n",
    "model = RandomForestClassifier(\n",
    "    n_estimators=100,  \n",
    "    max_depth=10,  \n",
    ")"
   ],
   "metadata": {
    "collapsed": false,
    "ExecuteTime": {
     "end_time": "2024-03-07T12:59:29.281560Z",
     "start_time": "2024-03-07T12:59:28.175158Z"
    }
   },
   "id": "aa267f79ca752663",
   "execution_count": 14
  },
  {
   "cell_type": "code",
   "outputs": [
    {
     "name": "stdout",
     "output_type": "stream",
     "text": [
      "NDCG на тестовых данных c использованием RandomForestClassifier: 0.5027975259399042\n"
     ]
    }
   ],
   "source": [
    "pipeline(model, X_train, y_train, X_test, y_test, model_name='RandomForestClassifier')"
   ],
   "metadata": {
    "collapsed": false,
    "ExecuteTime": {
     "end_time": "2024-03-07T12:59:32.579660Z",
     "start_time": "2024-03-07T12:59:29.283435Z"
    }
   },
   "id": "a3a4acf9233fd8fa",
   "execution_count": 15
  },
  {
   "cell_type": "code",
   "outputs": [],
   "source": [
    "from sklearn.neighbors import KNeighborsClassifier\n",
    "\n",
    "model = KNeighborsClassifier(\n",
    "    n_neighbors=5,  \n",
    "    weights='uniform'  \n",
    ")"
   ],
   "metadata": {
    "collapsed": false,
    "ExecuteTime": {
     "end_time": "2024-03-07T12:59:32.595657Z",
     "start_time": "2024-03-07T12:59:32.582657Z"
    }
   },
   "id": "b4d8b95f89cd5aba",
   "execution_count": 16
  },
  {
   "cell_type": "code",
   "outputs": [
    {
     "name": "stdout",
     "output_type": "stream",
     "text": [
      "NDCG на тестовых данных c использованием KNNClassifier: 0.41750638285686853\n"
     ]
    }
   ],
   "source": [
    "pipeline(model, X_train, y_train, X_test, y_test, model_name='KNNClassifier')"
   ],
   "metadata": {
    "collapsed": false,
    "ExecuteTime": {
     "end_time": "2024-03-07T12:59:33.797729Z",
     "start_time": "2024-03-07T12:59:32.598665Z"
    }
   },
   "id": "a31ccf25451c1c8e",
   "execution_count": 17
  },
  {
   "cell_type": "code",
   "outputs": [],
   "source": [
    "from sklearn.svm import SVC\n",
    "\n",
    "model = SVC(probability=True)"
   ],
   "metadata": {
    "collapsed": false,
    "ExecuteTime": {
     "end_time": "2024-03-07T12:59:33.828708Z",
     "start_time": "2024-03-07T12:59:33.804709Z"
    }
   },
   "id": "69bdbfa369e407a6",
   "execution_count": 18
  },
  {
   "cell_type": "code",
   "outputs": [
    {
     "name": "stdout",
     "output_type": "stream",
     "text": [
      "NDCG на тестовых данных c использованием SVCClassifier: 0.46836249408171576\n"
     ]
    }
   ],
   "source": [
    "pipeline(model, X_train, y_train, X_test, y_test, model_name='SVCClassifier')"
   ],
   "metadata": {
    "collapsed": false,
    "ExecuteTime": {
     "end_time": "2024-03-07T12:59:42.277946Z",
     "start_time": "2024-03-07T12:59:33.833748Z"
    }
   },
   "id": "69bba5496b1f5ecc",
   "execution_count": 19
  },
  {
   "cell_type": "code",
   "outputs": [],
   "source": [
    "from sklearn.linear_model import LogisticRegression\n",
    "\n",
    "model = LogisticRegression()"
   ],
   "metadata": {
    "collapsed": false,
    "ExecuteTime": {
     "end_time": "2024-03-07T12:59:42.293943Z",
     "start_time": "2024-03-07T12:59:42.279945Z"
    }
   },
   "id": "13904be3c65f4d3b",
   "execution_count": 20
  },
  {
   "cell_type": "code",
   "outputs": [
    {
     "name": "stdout",
     "output_type": "stream",
     "text": [
      "NDCG на тестовых данных c использованием LogisticRegression: 0.41291761830445706\n"
     ]
    }
   ],
   "source": [
    "pipeline(model, X_train, y_train, X_test, y_test, model_name='LogisticRegression')"
   ],
   "metadata": {
    "collapsed": false,
    "ExecuteTime": {
     "end_time": "2024-03-07T13:00:00.449614Z",
     "start_time": "2024-03-07T13:00:00.140349Z"
    }
   },
   "id": "f9012c4a85f0bd2a",
   "execution_count": 21
  },
  {
   "cell_type": "markdown",
   "source": [
    "Лучше всего показал себя CatBoost, подберем более оптимальные параметры для модели"
   ],
   "metadata": {
    "collapsed": false
   },
   "id": "ca4842770ed3ee18"
  },
  {
   "cell_type": "code",
   "outputs": [],
   "source": [
    "from catboost import Pool\n",
    "\n",
    "train_group_id = X_train['search_id']\n",
    "test_group_id = X_test['search_id']\n",
    "\n",
    "train_pool = Pool(data=X_train, label=y_train, group_id=train_group_id)\n",
    "test_pool = Pool(data=X_test, label=y_test, group_id=test_group_id)"
   ],
   "metadata": {
    "collapsed": false,
    "ExecuteTime": {
     "end_time": "2024-03-07T15:06:29.573017Z",
     "start_time": "2024-03-07T15:06:29.554746Z"
    }
   },
   "id": "d9df7affcea0f3c4",
   "execution_count": 98
  },
  {
   "cell_type": "code",
   "outputs": [],
   "source": [
    "model = CatBoostClassifier(\n",
    "    iterations=100,\n",
    "    depth=6,\n",
    "    #random_strength=.677,\n",
    "    random_strength=1.01,\n",
    "    scale_pos_weight=0.75, \n",
    "    custom_metric='NDCG'\n",
    ")"
   ],
   "metadata": {
    "collapsed": false,
    "ExecuteTime": {
     "end_time": "2024-03-07T15:42:30.928612Z",
     "start_time": "2024-03-07T15:42:30.923365Z"
    }
   },
   "id": "a2294779f120e5b",
   "execution_count": 405
  },
  {
   "cell_type": "code",
   "outputs": [
    {
     "name": "stdout",
     "output_type": "stream",
     "text": [
      "Learning rate set to 0.168648\n",
      "0:\tlearn: 0.4137359\ttest: 0.4130147\tbest: 0.4130147 (0)\ttotal: 28.7ms\tremaining: 2.85s\n",
      "1:\tlearn: 0.2658692\ttest: 0.2657496\tbest: 0.2657496 (1)\ttotal: 53.7ms\tremaining: 2.63s\n",
      "2:\tlearn: 0.1860859\ttest: 0.1881705\tbest: 0.1881705 (2)\ttotal: 82.1ms\tremaining: 2.65s\n",
      "3:\tlearn: 0.1430476\ttest: 0.1453859\tbest: 0.1453859 (3)\ttotal: 100ms\tremaining: 2.41s\n",
      "4:\tlearn: 0.1171405\ttest: 0.1195294\tbest: 0.1195294 (4)\ttotal: 124ms\tremaining: 2.35s\n",
      "5:\tlearn: 0.1023756\ttest: 0.1055622\tbest: 0.1055622 (5)\ttotal: 143ms\tremaining: 2.23s\n",
      "6:\tlearn: 0.0936377\ttest: 0.0968182\tbest: 0.0968182 (6)\ttotal: 161ms\tremaining: 2.14s\n",
      "7:\tlearn: 0.0869786\ttest: 0.0895334\tbest: 0.0895334 (7)\ttotal: 182ms\tremaining: 2.09s\n",
      "8:\tlearn: 0.0833955\ttest: 0.0859753\tbest: 0.0859753 (8)\ttotal: 210ms\tremaining: 2.13s\n",
      "9:\tlearn: 0.0804644\ttest: 0.0827659\tbest: 0.0827659 (9)\ttotal: 234ms\tremaining: 2.1s\n",
      "10:\tlearn: 0.0785969\ttest: 0.0811581\tbest: 0.0811581 (10)\ttotal: 261ms\tremaining: 2.11s\n",
      "11:\tlearn: 0.0772482\ttest: 0.0803972\tbest: 0.0803972 (11)\ttotal: 285ms\tremaining: 2.09s\n",
      "12:\tlearn: 0.0763763\ttest: 0.0799334\tbest: 0.0799334 (12)\ttotal: 311ms\tremaining: 2.08s\n",
      "13:\tlearn: 0.0754477\ttest: 0.0786424\tbest: 0.0786424 (13)\ttotal: 340ms\tremaining: 2.09s\n",
      "14:\tlearn: 0.0747100\ttest: 0.0785941\tbest: 0.0785941 (14)\ttotal: 364ms\tremaining: 2.06s\n",
      "15:\tlearn: 0.0738940\ttest: 0.0778462\tbest: 0.0778462 (15)\ttotal: 385ms\tremaining: 2.02s\n",
      "16:\tlearn: 0.0733418\ttest: 0.0776606\tbest: 0.0776606 (16)\ttotal: 411ms\tremaining: 2s\n",
      "17:\tlearn: 0.0729426\ttest: 0.0775356\tbest: 0.0775356 (17)\ttotal: 436ms\tremaining: 1.99s\n",
      "18:\tlearn: 0.0724408\ttest: 0.0777499\tbest: 0.0775356 (17)\ttotal: 474ms\tremaining: 2.02s\n",
      "19:\tlearn: 0.0719472\ttest: 0.0778974\tbest: 0.0775356 (17)\ttotal: 498ms\tremaining: 1.99s\n",
      "20:\tlearn: 0.0714053\ttest: 0.0772143\tbest: 0.0772143 (20)\ttotal: 518ms\tremaining: 1.95s\n",
      "21:\tlearn: 0.0712732\ttest: 0.0772402\tbest: 0.0772143 (20)\ttotal: 541ms\tremaining: 1.92s\n",
      "22:\tlearn: 0.0711734\ttest: 0.0772618\tbest: 0.0772143 (20)\ttotal: 562ms\tremaining: 1.88s\n",
      "23:\tlearn: 0.0708620\ttest: 0.0768879\tbest: 0.0768879 (23)\ttotal: 585ms\tremaining: 1.85s\n",
      "24:\tlearn: 0.0706390\ttest: 0.0768650\tbest: 0.0768650 (24)\ttotal: 611ms\tremaining: 1.83s\n",
      "25:\tlearn: 0.0702628\ttest: 0.0765827\tbest: 0.0765827 (25)\ttotal: 638ms\tremaining: 1.82s\n",
      "26:\tlearn: 0.0697678\ttest: 0.0760594\tbest: 0.0760594 (26)\ttotal: 661ms\tremaining: 1.79s\n",
      "27:\tlearn: 0.0693257\ttest: 0.0757144\tbest: 0.0757144 (27)\ttotal: 679ms\tremaining: 1.75s\n",
      "28:\tlearn: 0.0689310\ttest: 0.0756570\tbest: 0.0756570 (28)\ttotal: 698ms\tremaining: 1.71s\n",
      "29:\tlearn: 0.0684664\ttest: 0.0755770\tbest: 0.0755770 (29)\ttotal: 718ms\tremaining: 1.68s\n",
      "30:\tlearn: 0.0679105\ttest: 0.0753814\tbest: 0.0753814 (30)\ttotal: 738ms\tremaining: 1.64s\n",
      "31:\tlearn: 0.0670607\ttest: 0.0752138\tbest: 0.0752138 (31)\ttotal: 757ms\tremaining: 1.61s\n",
      "32:\tlearn: 0.0666668\ttest: 0.0749431\tbest: 0.0749431 (32)\ttotal: 775ms\tremaining: 1.57s\n",
      "33:\tlearn: 0.0662229\ttest: 0.0746304\tbest: 0.0746304 (33)\ttotal: 795ms\tremaining: 1.54s\n",
      "34:\tlearn: 0.0656847\ttest: 0.0749918\tbest: 0.0746304 (33)\ttotal: 818ms\tremaining: 1.52s\n",
      "35:\tlearn: 0.0653207\ttest: 0.0751258\tbest: 0.0746304 (33)\ttotal: 840ms\tremaining: 1.49s\n",
      "36:\tlearn: 0.0651802\ttest: 0.0750712\tbest: 0.0746304 (33)\ttotal: 862ms\tremaining: 1.47s\n",
      "37:\tlearn: 0.0648323\ttest: 0.0750652\tbest: 0.0746304 (33)\ttotal: 881ms\tremaining: 1.44s\n",
      "38:\tlearn: 0.0645728\ttest: 0.0755471\tbest: 0.0746304 (33)\ttotal: 901ms\tremaining: 1.41s\n",
      "39:\tlearn: 0.0641503\ttest: 0.0755247\tbest: 0.0746304 (33)\ttotal: 924ms\tremaining: 1.39s\n",
      "40:\tlearn: 0.0639219\ttest: 0.0753476\tbest: 0.0746304 (33)\ttotal: 953ms\tremaining: 1.37s\n",
      "41:\tlearn: 0.0636757\ttest: 0.0754439\tbest: 0.0746304 (33)\ttotal: 986ms\tremaining: 1.36s\n",
      "42:\tlearn: 0.0634392\ttest: 0.0755771\tbest: 0.0746304 (33)\ttotal: 1.02s\tremaining: 1.35s\n",
      "43:\tlearn: 0.0632731\ttest: 0.0756090\tbest: 0.0746304 (33)\ttotal: 1.05s\tremaining: 1.34s\n",
      "44:\tlearn: 0.0629286\ttest: 0.0756358\tbest: 0.0746304 (33)\ttotal: 1.08s\tremaining: 1.32s\n",
      "45:\tlearn: 0.0626184\ttest: 0.0755019\tbest: 0.0746304 (33)\ttotal: 1.11s\tremaining: 1.3s\n",
      "46:\tlearn: 0.0624570\ttest: 0.0753889\tbest: 0.0746304 (33)\ttotal: 1.13s\tremaining: 1.28s\n",
      "47:\tlearn: 0.0620896\ttest: 0.0752181\tbest: 0.0746304 (33)\ttotal: 1.16s\tremaining: 1.26s\n",
      "48:\tlearn: 0.0620262\ttest: 0.0750657\tbest: 0.0746304 (33)\ttotal: 1.19s\tremaining: 1.23s\n",
      "49:\tlearn: 0.0616454\ttest: 0.0748927\tbest: 0.0746304 (33)\ttotal: 1.21s\tremaining: 1.21s\n",
      "50:\tlearn: 0.0614714\ttest: 0.0747569\tbest: 0.0746304 (33)\ttotal: 1.23s\tremaining: 1.19s\n",
      "51:\tlearn: 0.0609608\ttest: 0.0746935\tbest: 0.0746304 (33)\ttotal: 1.26s\tremaining: 1.17s\n",
      "52:\tlearn: 0.0606779\ttest: 0.0746146\tbest: 0.0746146 (52)\ttotal: 1.3s\tremaining: 1.15s\n",
      "53:\tlearn: 0.0604133\ttest: 0.0746057\tbest: 0.0746057 (53)\ttotal: 1.34s\tremaining: 1.14s\n",
      "54:\tlearn: 0.0602645\ttest: 0.0744135\tbest: 0.0744135 (54)\ttotal: 1.37s\tremaining: 1.12s\n",
      "55:\tlearn: 0.0601765\ttest: 0.0743984\tbest: 0.0743984 (55)\ttotal: 1.4s\tremaining: 1.1s\n",
      "56:\tlearn: 0.0596828\ttest: 0.0746609\tbest: 0.0743984 (55)\ttotal: 1.42s\tremaining: 1.07s\n",
      "57:\tlearn: 0.0595919\ttest: 0.0745709\tbest: 0.0743984 (55)\ttotal: 1.45s\tremaining: 1.05s\n",
      "58:\tlearn: 0.0594459\ttest: 0.0744631\tbest: 0.0743984 (55)\ttotal: 1.48s\tremaining: 1.03s\n",
      "59:\tlearn: 0.0592309\ttest: 0.0745339\tbest: 0.0743984 (55)\ttotal: 1.51s\tremaining: 1s\n",
      "60:\tlearn: 0.0591906\ttest: 0.0745370\tbest: 0.0743984 (55)\ttotal: 1.54s\tremaining: 985ms\n",
      "61:\tlearn: 0.0590119\ttest: 0.0745568\tbest: 0.0743984 (55)\ttotal: 1.57s\tremaining: 961ms\n",
      "62:\tlearn: 0.0588410\ttest: 0.0745327\tbest: 0.0743984 (55)\ttotal: 1.59s\tremaining: 936ms\n",
      "63:\tlearn: 0.0583507\ttest: 0.0749305\tbest: 0.0743984 (55)\ttotal: 1.61s\tremaining: 909ms\n",
      "64:\tlearn: 0.0583178\ttest: 0.0748391\tbest: 0.0743984 (55)\ttotal: 1.64s\tremaining: 883ms\n",
      "65:\tlearn: 0.0582509\ttest: 0.0748762\tbest: 0.0743984 (55)\ttotal: 1.66s\tremaining: 856ms\n",
      "66:\tlearn: 0.0580381\ttest: 0.0749536\tbest: 0.0743984 (55)\ttotal: 1.68s\tremaining: 830ms\n",
      "67:\tlearn: 0.0578774\ttest: 0.0749637\tbest: 0.0743984 (55)\ttotal: 1.7s\tremaining: 802ms\n",
      "68:\tlearn: 0.0577626\ttest: 0.0749822\tbest: 0.0743984 (55)\ttotal: 1.73s\tremaining: 775ms\n",
      "69:\tlearn: 0.0574693\ttest: 0.0747892\tbest: 0.0743984 (55)\ttotal: 1.75s\tremaining: 748ms\n",
      "70:\tlearn: 0.0569563\ttest: 0.0745956\tbest: 0.0743984 (55)\ttotal: 1.77s\tremaining: 722ms\n",
      "71:\tlearn: 0.0564106\ttest: 0.0749671\tbest: 0.0743984 (55)\ttotal: 1.78s\tremaining: 694ms\n",
      "72:\tlearn: 0.0562526\ttest: 0.0750559\tbest: 0.0743984 (55)\ttotal: 1.8s\tremaining: 666ms\n",
      "73:\tlearn: 0.0558201\ttest: 0.0752021\tbest: 0.0743984 (55)\ttotal: 1.82s\tremaining: 639ms\n",
      "74:\tlearn: 0.0557969\ttest: 0.0752192\tbest: 0.0743984 (55)\ttotal: 1.84s\tremaining: 612ms\n",
      "75:\tlearn: 0.0557090\ttest: 0.0753333\tbest: 0.0743984 (55)\ttotal: 1.85s\tremaining: 585ms\n",
      "76:\tlearn: 0.0556154\ttest: 0.0753382\tbest: 0.0743984 (55)\ttotal: 1.87s\tremaining: 558ms\n",
      "77:\tlearn: 0.0554824\ttest: 0.0752843\tbest: 0.0743984 (55)\ttotal: 1.89s\tremaining: 533ms\n",
      "78:\tlearn: 0.0549805\ttest: 0.0754360\tbest: 0.0743984 (55)\ttotal: 1.91s\tremaining: 508ms\n",
      "79:\tlearn: 0.0547130\ttest: 0.0756481\tbest: 0.0743984 (55)\ttotal: 1.94s\tremaining: 484ms\n",
      "80:\tlearn: 0.0544424\ttest: 0.0757869\tbest: 0.0743984 (55)\ttotal: 1.96s\tremaining: 459ms\n",
      "81:\tlearn: 0.0539993\ttest: 0.0757349\tbest: 0.0743984 (55)\ttotal: 1.98s\tremaining: 434ms\n",
      "82:\tlearn: 0.0536582\ttest: 0.0759962\tbest: 0.0743984 (55)\ttotal: 2s\tremaining: 409ms\n",
      "83:\tlearn: 0.0535780\ttest: 0.0760187\tbest: 0.0743984 (55)\ttotal: 2.02s\tremaining: 384ms\n",
      "84:\tlearn: 0.0534426\ttest: 0.0758954\tbest: 0.0743984 (55)\ttotal: 2.03s\tremaining: 359ms\n",
      "85:\tlearn: 0.0532738\ttest: 0.0758008\tbest: 0.0743984 (55)\ttotal: 2.05s\tremaining: 334ms\n",
      "86:\tlearn: 0.0530417\ttest: 0.0758876\tbest: 0.0743984 (55)\ttotal: 2.07s\tremaining: 309ms\n",
      "87:\tlearn: 0.0529221\ttest: 0.0759747\tbest: 0.0743984 (55)\ttotal: 2.09s\tremaining: 285ms\n",
      "88:\tlearn: 0.0526285\ttest: 0.0758688\tbest: 0.0743984 (55)\ttotal: 2.11s\tremaining: 261ms\n",
      "89:\tlearn: 0.0523883\ttest: 0.0760306\tbest: 0.0743984 (55)\ttotal: 2.13s\tremaining: 237ms\n",
      "90:\tlearn: 0.0521464\ttest: 0.0759866\tbest: 0.0743984 (55)\ttotal: 2.15s\tremaining: 213ms\n",
      "91:\tlearn: 0.0521294\ttest: 0.0759918\tbest: 0.0743984 (55)\ttotal: 2.17s\tremaining: 189ms\n",
      "92:\tlearn: 0.0520161\ttest: 0.0760107\tbest: 0.0743984 (55)\ttotal: 2.19s\tremaining: 165ms\n",
      "93:\tlearn: 0.0517648\ttest: 0.0760265\tbest: 0.0743984 (55)\ttotal: 2.21s\tremaining: 141ms\n",
      "94:\tlearn: 0.0516370\ttest: 0.0762010\tbest: 0.0743984 (55)\ttotal: 2.22s\tremaining: 117ms\n",
      "95:\tlearn: 0.0515694\ttest: 0.0762306\tbest: 0.0743984 (55)\ttotal: 2.24s\tremaining: 93.4ms\n",
      "96:\tlearn: 0.0513959\ttest: 0.0762512\tbest: 0.0743984 (55)\ttotal: 2.26s\tremaining: 69.8ms\n",
      "97:\tlearn: 0.0511128\ttest: 0.0762792\tbest: 0.0743984 (55)\ttotal: 2.27s\tremaining: 46.4ms\n",
      "98:\tlearn: 0.0510130\ttest: 0.0762428\tbest: 0.0743984 (55)\ttotal: 2.3s\tremaining: 23.2ms\n",
      "99:\tlearn: 0.0504882\ttest: 0.0760980\tbest: 0.0743984 (55)\ttotal: 2.32s\tremaining: 0us\n",
      "\n",
      "bestTest = 0.07439836695\n",
      "bestIteration = 55\n",
      "\n",
      "Shrink model to first 56 iterations.\n"
     ]
    },
    {
     "data": {
      "text/plain": "<catboost.core.CatBoostClassifier at 0x152b8be2a00>"
     },
     "execution_count": 406,
     "metadata": {},
     "output_type": "execute_result"
    }
   ],
   "source": [
    "model.fit(train_pool, eval_set=test_pool)"
   ],
   "metadata": {
    "collapsed": false,
    "ExecuteTime": {
     "end_time": "2024-03-07T15:42:33.698044Z",
     "start_time": "2024-03-07T15:42:31.212691Z"
    }
   },
   "id": "c3a24fde4a310b23",
   "execution_count": 406
  },
  {
   "cell_type": "code",
   "outputs": [
    {
     "name": "stdout",
     "output_type": "stream",
     "text": [
      "NDCG на тестовых данных с использованием CatBoost: 0.7026311288146562\n"
     ]
    }
   ],
   "source": [
    "\n",
    "y_pred_proba = model.predict_proba(X_test)[:, 1]\n",
    "\n",
    "ndcg = ndcg_score(y_test.values.reshape(1, -1), y_pred_proba.reshape(1, -1), k=X_test.shape[0])\n",
    "print(f'NDCG на тестовых данных с использованием CatBoost: {ndcg}')"
   ],
   "metadata": {
    "collapsed": false,
    "ExecuteTime": {
     "end_time": "2024-03-07T15:42:33.716710Z",
     "start_time": "2024-03-07T15:42:33.702039Z"
    }
   },
   "id": "5337f5641b4fa1bc",
   "execution_count": 407
  },
  {
   "cell_type": "code",
   "outputs": [],
   "source": [],
   "metadata": {
    "collapsed": false
   },
   "id": "fb02b9a404799a5d"
  }
 ],
 "metadata": {
  "kernelspec": {
   "display_name": "Python 3",
   "language": "python",
   "name": "python3"
  },
  "language_info": {
   "codemirror_mode": {
    "name": "ipython",
    "version": 2
   },
   "file_extension": ".py",
   "mimetype": "text/x-python",
   "name": "python",
   "nbconvert_exporter": "python",
   "pygments_lexer": "ipython2",
   "version": "2.7.6"
  }
 },
 "nbformat": 4,
 "nbformat_minor": 5
}
